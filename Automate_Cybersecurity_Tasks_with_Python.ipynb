{
  "nbformat": 4,
  "nbformat_minor": 0,
  "metadata": {
    "colab": {
      "provenance": [],
      "toc_visible": true,
      "authorship_tag": "ABX9TyNEno2GmeNWPG8UVqnrdpWf",
      "include_colab_link": true
    },
    "kernelspec": {
      "name": "python3",
      "display_name": "Python 3"
    },
    "language_info": {
      "name": "python"
    }
  },
  "cells": [
    {
      "cell_type": "markdown",
      "metadata": {
        "id": "view-in-github",
        "colab_type": "text"
      },
      "source": [
        "<a href=\"https://colab.research.google.com/github/ALBKIN/Python_playground/blob/main/Automate_Cybersecurity_Tasks_with_Python.ipynb\" target=\"_parent\"><img src=\"https://colab.research.google.com/assets/colab-badge.svg\" alt=\"Open In Colab\"/></a>"
      ]
    },
    {
      "cell_type": "markdown",
      "source": [
        "# Activity: Import & parse text files"
      ],
      "metadata": {
        "id": "Ra1jmijs4xsY"
      }
    },
    {
      "cell_type": "code",
      "source": [
        "# Assign `import_file` to the name of the text file that you want to create\n",
        "import_file = \"allow_list.txt\"\n",
        "\n",
        "# Assign `ip_addresses` to a list of IP addresses that are allowed to access the restricted information\n",
        "ip_addresses = \"192.168.218.160 192.168.97.225 192.168.145.158 192.168.108.13 192.168.60.153 192.168.96.200 192.168.247.153 192.168.3.252 192.168.116.187 192.168.15.110 192.168.39.246\"\n",
        "\n",
        "# Create a `with` statement to write to the text file\n",
        "with open(import_file, \"w\") as file:\n",
        "\n",
        "    # Write `ip_addresses` to the text file\n",
        "    file.write(ip_addresses)\n",
        "\n",
        "# Create a `with` statement to read in the text file\n",
        "with open(import_file, \"r\") as file:\n",
        "\n",
        "    # Read the file and store the result in a variable named `text`\n",
        "    text = file.read()\n",
        "\n",
        "# Display the contents of `text`\n",
        "print(text)"
      ],
      "metadata": {
        "colab": {
          "base_uri": "https://localhost:8080/"
        },
        "id": "74A7Kvqf8SD1",
        "outputId": "9f26c146-b035-408d-aa48-b81ef550852d"
      },
      "execution_count": 33,
      "outputs": [
        {
          "output_type": "stream",
          "name": "stdout",
          "text": [
            "192.168.218.160 192.168.97.225 192.168.145.158 192.168.108.13 192.168.60.153 192.168.96.200 192.168.247.153 192.168.3.252 192.168.116.187 192.168.15.110 192.168.39.246\n"
          ]
        }
      ]
    },
    {
      "cell_type": "code",
      "source": [
        "# Assign `import_file` to the name of the text file that you want to create\n",
        "import_file = \"allow_list.txt\"\n",
        "\n",
        "# Assign `ip_addresses` to a list of IP addresses that are allowed to access the restricted information\n",
        "ip_addresses = \"192.168.218.160 192.168.97.225 192.168.145.158 192.168.108.13 192.168.60.153 192.168.96.200 192.168.247.153 192.168.3.252 192.168.116.187 192.168.15.110 192.168.39.246\"\n",
        "\n",
        "# Create a `with` statement to write to the text file\n",
        "with open(import_file, \"w\") as file:\n",
        "\n",
        "  # Write `ip_addresses` to the text file\n",
        " file.write(ip_addresses)"
      ],
      "metadata": {
        "id": "pcrT16iv8AEY"
      },
      "execution_count": 32,
      "outputs": []
    },
    {
      "cell_type": "code",
      "source": [
        "# Assign `import_file` to the name of the text file that you want to create\n",
        "import_file = \"allow_list.txt\"\n",
        "\n",
        "# Assign `ip_addresses` to a list of IP addresses that are allowed to access the restricted information\n",
        "ip_addresses = \"192.168.218.160 192.168.97.225 192.168.145.158 192.168.108.13 192.168.60.153 192.168.96.200 192.168.247.153 192.168.3.252 192.168.116.187 192.168.15.110 192.168.39.246\"\n",
        "\n",
        "# Display `import_file`\n",
        "print(import_file)\n",
        "\n",
        "# Display `ip_addresses`\n",
        "print(ip_addresses)"
      ],
      "metadata": {
        "colab": {
          "base_uri": "https://localhost:8080/"
        },
        "id": "j9Jyy9Rr7roH",
        "outputId": "4c4fbb90-cc6f-4227-f05c-291546d4a99a"
      },
      "execution_count": 31,
      "outputs": [
        {
          "output_type": "stream",
          "name": "stdout",
          "text": [
            "allow_list.txt\n",
            "192.168.218.160 192.168.97.225 192.168.145.158 192.168.108.13 192.168.60.153 192.168.96.200 192.168.247.153 192.168.3.252 192.168.116.187 192.168.15.110 192.168.39.246\n"
          ]
        }
      ]
    },
    {
      "cell_type": "code",
      "source": [
        "# Assign `import_file` to the name of the text file that contains the security log file\n",
        "import_file = \"login.txt\"\n",
        "\n",
        "# Assign `missing entry` to a log that was not recorded in the log file\n",
        "missing_entry = \"jrafael,192.168.243.140,4:56:27,2022-05-09\"\n",
        "\n",
        "# Use `open()` to import security log file and store it as a string\n",
        "# Pass in \"a\" as the second parameter to indicate that the file is being opened for appending purposes\n",
        "with open(import_file, \"a\") as file:\n",
        "\n",
        "    # Use `.write()` to append `missing_entry` to the log file\n",
        "    file.write(missing_entry)\n",
        "\n",
        "# Use `open()` with the parameter \"r\" to open the security log file for reading purposes\n",
        "with open(import_file, \"r\") as file:\n",
        "\n",
        "    # Use `.read()` to read in the contents of the log file and store in a variable named `text`\n",
        "    text = file.read()\n",
        "\n",
        "# Display the contents of `text`\n",
        "print(text)"
      ],
      "metadata": {
        "id": "Onbo8gaD69bN"
      },
      "execution_count": null,
      "outputs": []
    },
    {
      "cell_type": "code",
      "source": [
        "# Assign `import_file` to the name of the text file that contains the security log file\n",
        "import_file = \"login.txt\"\n",
        "\n",
        "# The `with` statement\n",
        "# Use `open()` to import security log file and store it as a string\n",
        "with open(import_file, \"r\") as file:\n",
        "\n",
        "  # Use `.read()` to read the imported file and store the result in a variable named `text`\n",
        "  text = file.read()\n",
        "\n",
        "# Display the contents of `text` split into separate lines\n",
        "print(text.split())"
      ],
      "metadata": {
        "id": "XJrhPcxA6ys9"
      },
      "execution_count": null,
      "outputs": []
    },
    {
      "cell_type": "code",
      "source": [
        "# Assign `import_file` to the name of the text file that contains the security log file\n",
        "import_file = \"https://colab.research.google.com/drive/1TaftxdrPrd60y5Tuq6huIbnMJnbJTFyr#scrollTo=-y9RU3Xv6RDA&line=2&uniqifier=1\"\n",
        "\n",
        "# The `with` statement\n",
        "# Use `open()` to import security log file and store it as a string\n",
        "with open(import_file, \"r\") as file:\n",
        "\n",
        "  # Use `.read()` to read the imported file and store the result in a variable named `text`\n",
        "  text = file.read()\n",
        "\n",
        "# Display the contents of `text`\n",
        "print(text)"
      ],
      "metadata": {
        "colab": {
          "base_uri": "https://localhost:8080/",
          "height": 246
        },
        "id": "PNHVHK2E5m5Z",
        "outputId": "bb5a4afe-1684-4348-cb6f-6290d700c797"
      },
      "execution_count": 30,
      "outputs": [
        {
          "output_type": "error",
          "ename": "FileNotFoundError",
          "evalue": "ignored",
          "traceback": [
            "\u001b[0;31m---------------------------------------------------------------------------\u001b[0m",
            "\u001b[0;31mFileNotFoundError\u001b[0m                         Traceback (most recent call last)",
            "\u001b[0;32m<ipython-input-30-78e6c3ab2d67>\u001b[0m in \u001b[0;36m<cell line: 6>\u001b[0;34m()\u001b[0m\n\u001b[1;32m      4\u001b[0m \u001b[0;31m# The `with` statement\u001b[0m\u001b[0;34m\u001b[0m\u001b[0;34m\u001b[0m\u001b[0m\n\u001b[1;32m      5\u001b[0m \u001b[0;31m# Use `open()` to import security log file and store it as a string\u001b[0m\u001b[0;34m\u001b[0m\u001b[0;34m\u001b[0m\u001b[0m\n\u001b[0;32m----> 6\u001b[0;31m \u001b[0;32mwith\u001b[0m \u001b[0mopen\u001b[0m\u001b[0;34m(\u001b[0m\u001b[0mimport_file\u001b[0m\u001b[0;34m,\u001b[0m \u001b[0;34m\"r\"\u001b[0m\u001b[0;34m)\u001b[0m \u001b[0;32mas\u001b[0m \u001b[0mfile\u001b[0m\u001b[0;34m:\u001b[0m\u001b[0;34m\u001b[0m\u001b[0;34m\u001b[0m\u001b[0m\n\u001b[0m\u001b[1;32m      7\u001b[0m \u001b[0;34m\u001b[0m\u001b[0m\n\u001b[1;32m      8\u001b[0m   \u001b[0;31m# Use `.read()` to read the imported file and store the result in a variable named `text`\u001b[0m\u001b[0;34m\u001b[0m\u001b[0;34m\u001b[0m\u001b[0m\n",
            "\u001b[0;31mFileNotFoundError\u001b[0m: [Errno 2] No such file or directory: 'https://colab.research.google.com/drive/1TaftxdrPrd60y5Tuq6huIbnMJnbJTFyr#scrollTo=-y9RU3Xv6RDA&line=2&uniqifier=1'"
          ]
        }
      ]
    },
    {
      "cell_type": "markdown",
      "source": [
        "username,ip_address,time,date\n",
        "tshah,192.168.92.147,15:26:08,2022-05-10\n",
        "dtanaka,192.168.98.221,9:45:18,2022-05-09\n",
        "tmitchel,192.168.110.131,14:13:41,2022-05-11\n",
        "daquino,192.168.168.144,7:02:35,2022-05-08\n",
        "eraab,192.168.170.243,1:45:14,2022-05-11\n",
        "jlansky,192.168.238.42,1:07:11,2022-05-11\n",
        "acook,192.168.52.90,9:56:48,2022-05-10\n",
        "asundara,192.168.58.217,23:17:52,2022-05-12\n",
        "jclark,192.168.214.49,20:49:00,2022-05-10\n",
        "cjackson,192.168.247.153,19:36:42,2022-05-12\n",
        "jclark,192.168.197.247,14:11:04,2022-05-12\n",
        "apatel,192.168.46.207,17:39:42,2022-05-10\n",
        "mabadi,192.168.96.244,10:24:43,2022-05-12\n",
        "iuduike,192.168.131.147,17:50:00,2022-05-11\n",
        "abellmas,192.168.60.111,13:37:05,2022-05-10\n",
        "gesparza,192.168.148.80,6:30:14,2022-05-11\n",
        "cgriffin,192.168.4.157,23:04:05,2022-05-09\n",
        "alevitsk,192.168.210.228,8:10:43,2022-05-08\n",
        "eraab,192.168.24.12,11:29:27,2022-05-11\n",
        "jsoto,192.168.25.60,5:09:21,2022-05-09\n",
        "\n"
      ],
      "metadata": {
        "id": "-y9RU3Xv6RDA"
      }
    },
    {
      "cell_type": "code",
      "source": [
        "# Assign `import_file` to the name of the text file that contains the security log file\n",
        "import_file = \"login.txt\"\n",
        "\n",
        "# First line of the `with` statement\n",
        "# Use `open()` to import security log file and store it as a string\n",
        "with open(\"import_file\", \"r\") as file:"
      ],
      "metadata": {
        "id": "DMF7CLKH46JF"
      },
      "execution_count": null,
      "outputs": []
    },
    {
      "cell_type": "markdown",
      "source": [
        "# Activity: Use regular expressions to find patterns"
      ],
      "metadata": {
        "id": "JlvpJyRGyvWk"
      }
    },
    {
      "cell_type": "code",
      "source": [
        "# Assign `log_file` to a string containing username, date, login time, and IP address for a series of login attempts\n",
        "log_file = \"eraab 2022-05-10 6:03:41 192.168.152.148 \\niuduike 2022-05-09 6:46:40 192.168.22.115 \\nsmartell 2022-05-09 19:30:32 192.168.190.178 \\narutley 2022-05-12 17:00:59 1923.1689.3.24 \\nrjensen 2022-05-11 0:59:26 192.168.213.128 \\naestrada 2022-05-09 19:28:12 1924.1680.27.57 \\nasundara 2022-05-11 18:38:07 192.168.96.200 \\ndkot 2022-05-12 10:52:00 1921.168.1283.75 \\nabernard 2022-05-12 23:38:46 19245.168.2345.49 \\ncjackson 2022-05-12 19:36:42 192.168.247.153 \\njclark 2022-05-10 10:48:02 192.168.174.117 \\nalevitsk 2022-05-08 12:09:10 192.16874.1390.176 \\njrafael 2022-05-10 22:40:01 192.168.148.115 \\nyappiah 2022-05-12 10:37:22 192.168.103.10654 \\ndaquino 2022-05-08 7:02:35 192.168.168.144\"\n",
        "\n",
        "# Assign `pattern` to a regular expression that matches with all valid IP addresses and only those\n",
        "pattern = \"\\d{1,3}\\.\\d{1,3}\\.\\d{1,3}\\.\\d{1,3}\"\n",
        "\n",
        "# Use `re.findall()` on `pattern` and `log_file` and assign `valid_ip_addresses` to the output\n",
        "valid_ip_addresses = re.findall(pattern, log_file)\n",
        "\n",
        "# Assign `flagged_addresses` to a list of IP addresses that have been previously flagged for unusual activity\n",
        "flagged_addresses = [\"192.168.190.178\", \"192.168.96.200\", \"192.168.174.117\", \"192.168.168.144\"]\n",
        "\n",
        "# Iterative statement begins here\n",
        "# Loop through `valid_ip_addresses` with `address` as the loop variable\n",
        "for address in valid_ip_addresses:\n",
        "\n",
        "    # Conditional begins here\n",
        "    # If `address` belongs to `flagged_addresses`, display \"The IP address ______ has been flagged for further analysis.\"\n",
        "    if address in flagged_addresses:\n",
        "        print(\"The IP address\", address, \"has been flagged for further analysis.\")\n",
        "\n",
        "    # Otherwise, display \"The IP address ______ does not require further analysis.\"\n",
        "    else:\n",
        "        print(\"The IP address\", address, \"does not require further analysis\")"
      ],
      "metadata": {
        "colab": {
          "base_uri": "https://localhost:8080/"
        },
        "id": "kk7Gz50C3xpE",
        "outputId": "70c441fd-be95-45d6-82b5-ae06753c2169"
      },
      "execution_count": 27,
      "outputs": [
        {
          "output_type": "stream",
          "name": "stdout",
          "text": [
            "The IP address 192.168.152.148 does not require further analysis\n",
            "The IP address 192.168.22.115 does not require further analysis\n",
            "The IP address 192.168.190.178 has been flagged for further analysis.\n",
            "The IP address 192.168.213.128 does not require further analysis\n",
            "The IP address 192.168.96.200 has been flagged for further analysis.\n",
            "The IP address 192.168.247.153 does not require further analysis\n",
            "The IP address 192.168.174.117 has been flagged for further analysis.\n",
            "The IP address 192.168.148.115 does not require further analysis\n",
            "The IP address 192.168.103.106 does not require further analysis\n",
            "The IP address 192.168.168.144 has been flagged for further analysis.\n"
          ]
        }
      ]
    },
    {
      "cell_type": "code",
      "source": [
        "# Assign `flagged_addresses` to a list of IP addresses that have been previously flagged for unusual activity\n",
        "flagged_addresses = [\"192.168.190.178\", \"192.168.96.200\", \"192.168.174.117\", \"192.168.168.144\"]\n",
        "\n",
        "# Display the contents of `flagged_addresses`\n",
        "print(flagged_addresses)"
      ],
      "metadata": {
        "colab": {
          "base_uri": "https://localhost:8080/"
        },
        "id": "xkNmA4UF3njT",
        "outputId": "9e70b327-a80a-483c-b9d2-2ccb58aaa48c"
      },
      "execution_count": 26,
      "outputs": [
        {
          "output_type": "stream",
          "name": "stdout",
          "text": [
            "['192.168.190.178', '192.168.96.200', '192.168.174.117', '192.168.168.144']\n"
          ]
        }
      ]
    },
    {
      "cell_type": "code",
      "source": [
        "# Assign `log_file` to a string containing username, date, login time, and IP address for a series of login attempts\n",
        "log_file = \"eraab 2022-05-10 6:03:41 192.168.152.148 \\niuduike 2022-05-09 6:46:40 192.168.22.115 \\nsmartell 2022-05-09 19:30:32 192.168.190.178 \\narutley 2022-05-12 17:00:59 1923.1689.3.24 \\nrjensen 2022-05-11 0:59:26 192.168.213.128 \\naestrada 2022-05-09 19:28:12 1924.1680.27.57 \\nasundara 2022-05-11 18:38:07 192.168.96.200 \\ndkot 2022-05-12 10:52:00 1921.168.1283.75 \\nabernard 2022-05-12 23:38:46 19245.168.2345.49 \\ncjackson 2022-05-12 19:36:42 192.168.247.153 \\njclark 2022-05-10 10:48:02 192.168.174.117 \\nalevitsk 2022-05-08 12:09:10 192.16874.1390.176 \\njrafael 2022-05-10 22:40:01 192.168.148.115 \\nyappiah 2022-05-12 10:37:22 192.168.103.10654 \\ndaquino 2022-05-08 7:02:35 192.168.168.144\"\n",
        "\n",
        "# Assign `pattern` to a regular expression that matches with all valid IP addresses and only those\n",
        "pattern = \"\\d{1,3}\\.\\d{1,3}\\.\\d{1,3}\\.\\d{1,3}\"\n",
        "\n",
        "# Use `re.findall()` on `pattern` and `log_file` and assign `valid_ip_addresses` to the output\n",
        "valid_ip_addresses = re.findall(pattern, log_file)\n",
        "\n",
        "# Display the contents of `valid_ip_addresses`\n",
        "print(valid_ip_addresses)"
      ],
      "metadata": {
        "colab": {
          "base_uri": "https://localhost:8080/"
        },
        "id": "qxlvBQFw13BR",
        "outputId": "a1a8af4b-3966-418b-a2c1-0410ab1417b4"
      },
      "execution_count": 25,
      "outputs": [
        {
          "output_type": "stream",
          "name": "stdout",
          "text": [
            "['192.168.152.148', '192.168.22.115', '192.168.190.178', '192.168.213.128', '192.168.96.200', '192.168.247.153', '192.168.174.117', '192.168.148.115', '192.168.103.106', '192.168.168.144']\n"
          ]
        }
      ]
    },
    {
      "cell_type": "code",
      "source": [
        "# Assign `log_file` to a string containing username, date, login time, and IP address for a series of login attempts\n",
        "log_file = \"eraab 2022-05-10 6:03:41 192.168.152.148 \\niuduike 2022-05-09 6:46:40 192.168.22.115 \\nsmartell 2022-05-09 19:30:32 192.168.190.178 \\narutley 2022-05-12 17:00:59 1923.1689.3.24 \\nrjensen 2022-05-11 0:59:26 192.168.213.128 \\naestrada 2022-05-09 19:28:12 1924.1680.27.57 \\nasundara 2022-05-11 18:38:07 192.168.96.200 \\ndkot 2022-05-12 10:52:00 1921.168.1283.75 \\nabernard 2022-05-12 23:38:46 19245.168.2345.49 \\ncjackson 2022-05-12 19:36:42 192.168.247.153 \\njclark 2022-05-10 10:48:02 192.168.174.117 \\nalevitsk 2022-05-08 12:09:10 192.16874.1390.176 \\njrafael 2022-05-10 22:40:01 192.168.148.115 \\nyappiah 2022-05-12 10:37:22 192.168.103.10654 \\ndaquino 2022-05-08 7:02:35 192.168.168.144\"\n",
        "\n",
        "# Update `pattern` to a regular expression pattern that will match with IP addresses with any variation in the number of digits per segment\n",
        "pattern = \"\\d+\\.\\d+\\.\\d+\\.\\d+\"\n",
        "\n",
        "# Use the `re.findall()` function on `pattern` and `log_file` to extract the IP addresses of the updated form specifed above and display the results\n",
        "print(re.findall(pattern, log_file))"
      ],
      "metadata": {
        "colab": {
          "base_uri": "https://localhost:8080/"
        },
        "id": "Rp9Bk19c1e75",
        "outputId": "6f300470-fd56-4d1a-9bf8-d3f0f600891a"
      },
      "execution_count": 23,
      "outputs": [
        {
          "output_type": "stream",
          "name": "stdout",
          "text": [
            "['192.168.152.148', '192.168.22.115', '192.168.190.178', '1923.1689.3.24', '192.168.213.128', '1924.1680.27.57', '192.168.96.200', '1921.168.1283.75', '19245.168.2345.49', '192.168.247.153', '192.168.174.117', '192.16874.1390.176', '192.168.148.115', '192.168.103.10654', '192.168.168.144']\n"
          ]
        }
      ]
    },
    {
      "cell_type": "code",
      "source": [
        "# Assign `log_file` to a string containing username, date, login time, and IP address for a series of login attempts\n",
        "log_file = \"eraab 2022-05-10 6:03:41 192.168.152.148 \\niuduike 2022-05-09 6:46:40 192.168.22.115 \\nsmartell 2022-05-09 19:30:32 192.168.190.178 \\narutley 2022-05-12 17:00:59 1923.1689.3.24 \\nrjensen 2022-05-11 0:59:26 192.168.213.128 \\naestrada 2022-05-09 19:28:12 1924.1680.27.57 \\nasundara 2022-05-11 18:38:07 192.168.96.200 \\ndkot 2022-05-12 10:52:00 1921.168.1283.75 \\nabernard 2022-05-12 23:38:46 19245.168.2345.49 \\ncjackson 2022-05-12 19:36:42 192.168.247.153 \\njclark 2022-05-10 10:48:02 192.168.174.117 \\nalevitsk 2022-05-08 12:09:10 192.16874.1390.176 \\njrafael 2022-05-10 22:40:01 192.168.148.115 \\nyappiah 2022-05-12 10:37:22 192.168.103.10654 \\ndaquino 2022-05-08 7:02:35 192.168.168.144\"\n",
        "\n",
        "# Assign `pattern` to a regular expression pattern that will match with IP addresses of the form xxx.xxx.xxx.xxx\n",
        "pattern = \"\\d\\d\\d\\.\\d\\d\\d\\.\\d\\d\\d\\.\\d\\d\\d\"\n",
        "\n",
        "# Use the `re.findall()` function on `pattern` and `log_file` to extract the IP addresses of the form xxx.xxx.xxx.xxx and display the results\n",
        "print(re.findall(pattern, log_file))"
      ],
      "metadata": {
        "colab": {
          "base_uri": "https://localhost:8080/"
        },
        "id": "u7Sl1N211VX-",
        "outputId": "fa84c635-747d-497e-87e6-0b14c589653f"
      },
      "execution_count": 22,
      "outputs": [
        {
          "output_type": "stream",
          "name": "stdout",
          "text": [
            "['192.168.152.148', '192.168.190.178', '192.168.213.128', '192.168.247.153', '192.168.174.117', '192.168.148.115', '192.168.103.106', '192.168.168.144']\n"
          ]
        }
      ]
    },
    {
      "cell_type": "code",
      "source": [
        "# Assign `log_file` to a string containing username, date, login time, and IP address for a series of login attempts\n",
        "log_file = \"eraab 2022-05-10 6:03:41 192.168.152.148 \\niuduike 2022-05-09 6:46:40 192.168.22.115 \\nsmartell 2022-05-09 19:30:32 192.168.190.178 \\narutley 2022-05-12 17:00:59 1923.1689.3.24 \\nrjensen 2022-05-11 0:59:26 192.168.213.128 \\naestrada 2022-05-09 19:28:12 1924.1680.27.57 \\nasundara 2022-05-11 18:38:07 192.168.96.200 \\ndkot 2022-05-12 10:52:00 1921.168.1283.75 \\nabernard 2022-05-12 23:38:46 19245.168.2345.49 \\ncjackson 2022-05-12 19:36:42 192.168.247.153 \\njclark 2022-05-10 10:48:02 192.168.174.117 \\nalevitsk 2022-05-08 12:09:10 192.16874.1390.176 \\njrafael 2022-05-10 22:40:01 192.168.148.115 \\nyappiah 2022-05-12 10:37:22 192.168.103.10654 \\ndaquino 2022-05-08 7:02:35 192.168.168.144\"\n",
        "\n",
        "# Assign `pattern` to a regular expression pattern that will match with IP addresses of the form xxx.xxx.xxx.xxx\n",
        "pattern = \"\\d\\d\\d\\.\\d\\d\\d\\.\\d\\d\\d\\.\\d\\d\\d\""
      ],
      "metadata": {
        "id": "SdtnM__30vxv"
      },
      "execution_count": 21,
      "outputs": []
    },
    {
      "cell_type": "code",
      "source": [
        "# Assign `log_file` to a string containing username, date, login time, and IP address for a series of login attempts\n",
        "log_file = \"eraab 2022-05-10 6:03:41 192.168.152.148 \\niuduike 2022-05-09 6:46:40 192.168.22.115 \\nsmartell 2022-05-09 19:30:32 192.168.190.178 \\narutley 2022-05-12 17:00:59 1923.1689.3.24 \\nrjensen 2022-05-11 0:59:26 192.168.213.128 \\naestrada 2022-05-09 19:28:12 1924.1680.27.57 \\nasundara 2022-05-11 18:38:07 192.168.96.200 \\ndkot 2022-05-12 10:52:00 1921.168.1283.75 \\nabernard 2022-05-12 23:38:46 19245.168.2345.49 \\ncjackson 2022-05-12 19:36:42 192.168.247.153 \\njclark 2022-05-10 10:48:02 192.168.174.117 \\nalevitsk 2022-05-08 12:09:10 192.16874.1390.176 \\njrafael 2022-05-10 22:40:01 192.168.148.115 \\nyappiah 2022-05-12 10:37:22 192.168.103.10654 \\ndaquino 2022-05-08 7:02:35 192.168.168.144\"\n",
        "\n",
        "# Display contents of `log_file`\n",
        "print(log_file)"
      ],
      "metadata": {
        "colab": {
          "base_uri": "https://localhost:8080/"
        },
        "id": "LjSpuLeE0ccU",
        "outputId": "262b1ed8-6bc8-407a-f5c3-94f5910056bd"
      },
      "execution_count": 20,
      "outputs": [
        {
          "output_type": "stream",
          "name": "stdout",
          "text": [
            "eraab 2022-05-10 6:03:41 192.168.152.148 \n",
            "iuduike 2022-05-09 6:46:40 192.168.22.115 \n",
            "smartell 2022-05-09 19:30:32 192.168.190.178 \n",
            "arutley 2022-05-12 17:00:59 1923.1689.3.24 \n",
            "rjensen 2022-05-11 0:59:26 192.168.213.128 \n",
            "aestrada 2022-05-09 19:28:12 1924.1680.27.57 \n",
            "asundara 2022-05-11 18:38:07 192.168.96.200 \n",
            "dkot 2022-05-12 10:52:00 1921.168.1283.75 \n",
            "abernard 2022-05-12 23:38:46 19245.168.2345.49 \n",
            "cjackson 2022-05-12 19:36:42 192.168.247.153 \n",
            "jclark 2022-05-10 10:48:02 192.168.174.117 \n",
            "alevitsk 2022-05-08 12:09:10 192.16874.1390.176 \n",
            "jrafael 2022-05-10 22:40:01 192.168.148.115 \n",
            "yappiah 2022-05-12 10:37:22 192.168.103.10654 \n",
            "daquino 2022-05-08 7:02:35 192.168.168.144\n"
          ]
        }
      ]
    },
    {
      "cell_type": "code",
      "source": [
        "# Assign `devices` to a string containing device IDs, each device ID represented by alphanumeric characters\n",
        "devices = \"r262c36 67bv8fy 41j1u2e r151dm4 1270t3o 42dr56i r15xk9h 2j33krk 253be78 ac742a1 r15u9q5 zh86b2l ii286fq 9x482kt 6oa6m6u x3463ac i4l56nq g07h55q 081qc9t r159r1u\"\n",
        "\n",
        "# Assign `target_pattern` to a regular expression pattern for finding device IDs that start with \"r15\"\n",
        "target_pattern = \"r15\\w+\"\n",
        "\n",
        "# Use `re.findall()` to find the device IDs that start with \"r15\" and display the results\n",
        "print(re.findall(target_pattern, devices))"
      ],
      "metadata": {
        "colab": {
          "base_uri": "https://localhost:8080/"
        },
        "id": "hf_xIV1dz8ph",
        "outputId": "105b6543-ee89-4d08-f1c3-863ea6fd04c6"
      },
      "execution_count": 19,
      "outputs": [
        {
          "output_type": "stream",
          "name": "stdout",
          "text": [
            "['r151dm4', 'r15xk9h', 'r15u9q5', 'r159r1u']\n"
          ]
        }
      ]
    },
    {
      "cell_type": "code",
      "source": [
        "# Assign `devices` to a string containing device IDs, each device ID represented by alphanumeric characters\n",
        "devices = \"r262c36 67bv8fy 41j1u2e r151dm4 1270t3o 42dr56i r15xk9h 2j33krk 253be78 ac742a1 r15u9q5 zh86b2l ii286fq 9x482kt 6oa6m6u x3463ac i4l56nq g07h55q 081qc9t r159r1u\"\n",
        "\n",
        "# Assign `target_pattern` to a regular expression pattern for finding device IDs that start with \"r15\"\n",
        "target_pattern = \"r15\\w+\""
      ],
      "metadata": {
        "id": "DjybgYDAzXy4"
      },
      "execution_count": null,
      "outputs": []
    },
    {
      "cell_type": "code",
      "source": [
        "# Assign `devices` to a string containing device IDs, each device ID represented by alphanumeric characters\n",
        "devices = \"r262c36 67bv8fy 41j1u2e r151dm4 1270t3o 42dr56i r15xk9h 2j33krk 253be78 ac742a1 r15u9q5 zh86b2l ii286fq 9x482kt 6oa6m6u x3463ac i4l56nq g07h55q 081qc9t r159r1u\"\n",
        "\n",
        "# Display the contents of `devices`\n",
        "print(devices)"
      ],
      "metadata": {
        "colab": {
          "base_uri": "https://localhost:8080/"
        },
        "id": "eDYr12W9zKKt",
        "outputId": "fe7c0a33-80a1-453d-bb50-f1255137fc81"
      },
      "execution_count": 18,
      "outputs": [
        {
          "output_type": "stream",
          "name": "stdout",
          "text": [
            "r262c36 67bv8fy 41j1u2e r151dm4 1270t3o 42dr56i r15xk9h 2j33krk 253be78 ac742a1 r15u9q5 zh86b2l ii286fq 9x482kt 6oa6m6u x3463ac i4l56nq g07h55q 081qc9t r159r1u\n"
          ]
        }
      ]
    },
    {
      "cell_type": "code",
      "source": [
        "# Import the `re` module in Python\n",
        "import re"
      ],
      "metadata": {
        "id": "53jcvUWsy21N"
      },
      "execution_count": 17,
      "outputs": []
    },
    {
      "cell_type": "markdown",
      "source": [
        "# Activity: Develop an algorithm"
      ],
      "metadata": {
        "id": "NCQ9mpSSzAAo"
      }
    },
    {
      "cell_type": "code",
      "source": [
        "# Assign `approved_users` to a list of approved usernames\n",
        "approved_users = [\"elarson\", \"bmoreno\", \"sgilmore\", \"eraab\", \"gesparza\"]\n",
        "\n",
        "# Assign `approved_devices` to a list of device IDs that correspond to the usernames in `approved_users`\n",
        "approved_devices = [\"8rp2k75\", \"hl0s5o1\", \"4n482ts\", \"a307vir\", \"3rcv4w6\"]\n",
        "\n",
        "# Define a function named `login` that takes in two parameters, `username` and `device_id`\n",
        "def login(username, device_id):\n",
        "\n",
        "    # If `username` belongs to `approved_users`,\n",
        "    if username in approved_users:\n",
        "\n",
        "        # then display \"The user ______ is approved to access the system.\",\n",
        "        print(\"The user\", username, \"is approved to access the system.\")\n",
        "\n",
        "        # assign `ind` to the index of `username` in `approved_users`,\n",
        "        ind = approved_users.index(username)\n",
        "\n",
        "        # and execute the following conditional\n",
        "        # If `device_id` matches the element at the index `ind` in `approved_devices`,\n",
        "        if device_id == approved_devices[ind]:\n",
        "\n",
        "          # then display \"______ is the assigned device for ______\"\n",
        "          print(device_id, \"is the assigned device for\", username)\n",
        "\n",
        "        # Otherwise,\n",
        "        else:\n",
        "\n",
        "          # display \"______ is not their assigned device\"\n",
        "          print(device_id, \"is not their assigned device.\")\n",
        "\n",
        "    # Otherwise (part of the outer conditional and handles the case when `username` does not belong to `approved_users`),\n",
        "    else:\n",
        "\n",
        "        # Display \"The user ______ is not approved to access the system.\"\n",
        "        print(\"The username\", username, \"is not approved to access the system.\")\n",
        "\n",
        "# Call the function you just defined to experiment with different username and device_id combinations\n",
        "login(\"elarson\", \"8rp2k75\")\n",
        "login(\"bmoreno\", \"a307vir\")\n",
        "login(\"intruder\", \"3rcv4w6\")"
      ],
      "metadata": {
        "colab": {
          "base_uri": "https://localhost:8080/"
        },
        "id": "7u7M2WnJ4VO3",
        "outputId": "559a5493-16d7-4958-c86c-23078e9db697"
      },
      "execution_count": null,
      "outputs": [
        {
          "output_type": "stream",
          "name": "stdout",
          "text": [
            "The user elarson is approved to access the system.\n",
            "8rp2k75 is the assigned device for elarson\n",
            "The user bmoreno is approved to access the system.\n",
            "a307vir is not their assigned device.\n",
            "The username intruder is not approved to access the system.\n"
          ]
        }
      ]
    },
    {
      "cell_type": "code",
      "source": [
        "# Assign `approved_users` to a list of approved usernames\n",
        "approved_users = [\"elarson\", \"bmoreno\", \"sgilmore\", \"eraab\", \"gesparza\"]\n",
        "\n",
        "# Assign `approved_devices` to a list of device IDs that correspond to the usernames in `approved_users`\n",
        "approved_devices = [\"8rp2k75\", \"hl0s5o1\", \"4n482ts\", \"a307vir\", \"3rcv4w6\"]\n",
        "\n",
        "# Assign `username` to a username\n",
        "username = \"sgilmore\"\n",
        "\n",
        "# Assign `device_id` to a device ID\n",
        "device_id = \"a307vir\"\n",
        "\n",
        "# Assign `ind` to the index of `username` in `approved_users`\n",
        "ind = approved_users.index(username)\n",
        "\n",
        "# If statement\n",
        "# If `username` belongs to `approved_users`, and if the element at `ind` in `approved_devices` matches `device_id`,\n",
        "# then display a message that the username is approved,\n",
        "# followed by a message that the user has the correct device\n",
        "if username in approved_users and device_id == approved_devices[ind]:\n",
        "    print(\"The user\", username, \"is approved to access the system.\")\n",
        "    print(device_id, \"is the assigned device for\", username)\n",
        "\n",
        "# Elif statement\n",
        "# Handles the case when `username` belongs to `approved_users` but element at `ind` in `approved_devices` does not match `device_id`,\n",
        "# and displays two messages accordingly\n",
        "elif username in approved_users and device_id != approved_devices[ind]:\n",
        "    print(\"The user\", username, \"is approved to access the system, but\", device_id, \"is not their assigned device.\")"
      ],
      "metadata": {
        "colab": {
          "base_uri": "https://localhost:8080/"
        },
        "id": "h3xPD6W42v2a",
        "outputId": "99433340-779e-45a2-c046-dcece4e80b38"
      },
      "execution_count": null,
      "outputs": [
        {
          "output_type": "stream",
          "name": "stdout",
          "text": [
            "The user sgilmore is approved to access the system, but a307vir is not their assigned device.\n"
          ]
        }
      ]
    },
    {
      "cell_type": "code",
      "source": [
        "# Assign `approved_users` to a list of approved usernames\n",
        "approved_users = [\"elarson\", \"bmoreno\", \"sgilmore\", \"eraab\", \"gesparza\"]\n",
        "\n",
        "# Assign `approved_devices` to a list of device IDs that correspond to the usernames in `approved_users`\n",
        "approved_devices = [\"8rp2k75\", \"hl0s5o1\", \"4n482ts\", \"a307vir\", \"3rcv4w6\"]\n",
        "\n",
        "# Assign `username` to a username\n",
        "username = \"sgilmore\"\n",
        "\n",
        "# Assign `device_id` to a device ID\n",
        "device_id = \"4n482ts\"\n",
        "\n",
        "# Assign `ind` to the index of `username` in `approved_users`\n",
        "ind = approved_users.index(username)\n",
        "\n",
        "# Conditional statement\n",
        "# If `username` belongs to `approved_users`, and if the device ID at `ind` in `approved_devices` matches `device_id`,\n",
        "# then display a message that the username is approved,\n",
        "# followed by a message that the user has the correct device\n",
        "if username in approved_users and device_id == approved_devices[ind]:\n",
        "    print(\"The username\", username, \"is approved to access the system.\")\n",
        "    print(device_id, \"is the assigned device for\", username)"
      ],
      "metadata": {
        "colab": {
          "base_uri": "https://localhost:8080/"
        },
        "id": "inASP7RB2bm1",
        "outputId": "87d73fac-1aec-45a7-aeab-b0165ce9d8a7"
      },
      "execution_count": null,
      "outputs": [
        {
          "output_type": "stream",
          "name": "stdout",
          "text": [
            "The username sgilmore is approved to access the system.\n",
            "4n482ts is the assigned device for sgilmore\n"
          ]
        }
      ]
    },
    {
      "cell_type": "code",
      "source": [
        "# Assign `approved_users` to a list of approved usernames\n",
        "approved_users = [\"elarson\", \"bmoreno\", \"sgilmore\", \"eraab\", \"gesparza\"]\n",
        "\n",
        "# Assign `approved_devices` to a list of device IDs that correspond to the usernames in `approved_users`\n",
        "approved_devices = [\"8rp2k75\", \"hl0s5o1\", \"4n482ts\", \"a307vir\", \"3rcv4w6\"]\n",
        "\n",
        "# Assign `username` to a username\n",
        "username = \"sgilmore\"\n",
        "\n",
        "# Assign `ind` to the index of `username` in `approved_users`\n",
        "ind = approved_users.index(username)\n",
        "\n",
        "# Display the device ID at the index that matches the value of `ind` in `approved_devices`\n",
        "print(approved_devices[ind])"
      ],
      "metadata": {
        "colab": {
          "base_uri": "https://localhost:8080/"
        },
        "id": "au9Szp_Q1dzN",
        "outputId": "69307f20-284e-44f7-bde1-7eb1d796ca1f"
      },
      "execution_count": null,
      "outputs": [
        {
          "output_type": "stream",
          "name": "stdout",
          "text": [
            "4n482ts\n"
          ]
        }
      ]
    },
    {
      "cell_type": "code",
      "source": [
        "# Assign `approved_users` to a list of approved usernames\n",
        "approved_users = [\"elarson\", \"bmoreno\", \"sgilmore\", \"eraab\", \"gesparza\"]\n",
        "\n",
        "# Assign `approved_devices` to a list of device IDs that correspond to the usernames in `approved_users`\n",
        "approved_devices = [\"8rp2k75\", \"hl0s5o1\", \"4n482ts\", \"a307vir\", \"3rcv4w6\"]\n",
        "\n",
        "# Assign `username` to a username\n",
        "username = \"sgilmore\"\n",
        "\n",
        "# Assign `ind` to the index of `username` in `approved_users`\n",
        "ind = approved_users.index(username)\n",
        "\n",
        "# Display the value of `ind`\n",
        "print(ind)"
      ],
      "metadata": {
        "colab": {
          "base_uri": "https://localhost:8080/"
        },
        "id": "Sfcp-BQn1KlE",
        "outputId": "f1d44f52-a516-4870-d568-1b3dec419d28"
      },
      "execution_count": null,
      "outputs": [
        {
          "output_type": "stream",
          "name": "stdout",
          "text": [
            "2\n"
          ]
        }
      ]
    },
    {
      "cell_type": "code",
      "source": [
        "# Assign `approved_users` to a list of approved usernames\n",
        "approved_users = [\"elarson\", \"bmoreno\", \"sgilmore\", \"eraab\", \"gesparza\"]\n",
        "\n",
        "# Assign `approved_devices` to a list of device IDs that correspond to the usernames in `approved_users`\n",
        "approved_devices = [\"8rp2k75\", \"hl0s5o1\", \"4n482ts\", \"a307vir\", \"3rcv4w6\"]\n",
        "\n",
        "# Assign `username` to a username\n",
        "username = \"sgilmore\"\n",
        "\n",
        "# Conditional statement\n",
        "# If `username` belongs to `approved_users`, then display \"The user ______ is approved to access the system.\"\n",
        "# Otherwise display \"The user ______ is not approved to access the system.\"\n",
        "if username in approved_users:\n",
        "    print(\"The username\", username, \"is approved to access the system.\")\n",
        "else:\n",
        "    print(\"The user\", username, \"is not approved to access the system.\")"
      ],
      "metadata": {
        "colab": {
          "base_uri": "https://localhost:8080/"
        },
        "id": "AbgBIFgW0xXC",
        "outputId": "2683b8c6-e184-41f8-c3ec-f3013f82deec"
      },
      "execution_count": null,
      "outputs": [
        {
          "output_type": "stream",
          "name": "stdout",
          "text": [
            "The username sgilmore is approved to access the system.\n"
          ]
        }
      ]
    },
    {
      "cell_type": "code",
      "source": [
        "# Assign `approved_users` to a list of approved usernames\n",
        "approved_users = [\"elarson\", \"bmoreno\", \"tshah\", \"sgilmore\", \"eraab\", \"gesparza\"]\n",
        "\n",
        "# Assign `approved_devices` to a list of device IDs that correspond to the usernames in `approved_users`\n",
        "approved_devices = [\"8rp2k75\", \"hl0s5o1\", \"2ye3lzg\", \"4n482ts\", \"a307vir\", \"3rcv4w6\"]\n",
        "\n",
        "# Assign `removed_user` to the username of the employee who has left the team\n",
        "removed_user = \"tshah\"\n",
        "\n",
        "# Assign `removed_device` to the device ID of the employee who has left the team\n",
        "removed_device = \"2ye3lzg\"\n",
        "\n",
        "# Remove that employee's username and device ID from `approved_users` and `approved_devices` respectively\n",
        "approved_users.remove(removed_user)\n",
        "approved_devices.remove(removed_device)\n",
        "\n",
        "# Display `approved_users`\n",
        "print(approved_users)\n",
        "\n",
        "# Diplay `approved_devices`\n",
        "print(approved_devices)"
      ],
      "metadata": {
        "colab": {
          "base_uri": "https://localhost:8080/"
        },
        "id": "y1vVvxYZ0YgW",
        "outputId": "1c91400d-50f4-42b1-b3c5-0470947d0034"
      },
      "execution_count": null,
      "outputs": [
        {
          "output_type": "stream",
          "name": "stdout",
          "text": [
            "['elarson', 'bmoreno', 'sgilmore', 'eraab', 'gesparza']\n",
            "['8rp2k75', 'hl0s5o1', '4n482ts', 'a307vir', '3rcv4w6']\n"
          ]
        }
      ]
    },
    {
      "cell_type": "code",
      "source": [
        "# Assign `approved_users` to a list of approved usernames\n",
        "approved_users = [\"elarson\", \"bmoreno\", \"tshah\", \"sgilmore\", \"eraab\"]\n",
        "\n",
        "# Assign `approved_devices` to a list of device IDs that correspond to the usernames in `approved_users`\n",
        "approved_devices = [\"8rp2k75\", \"hl0s5o1\", \"2ye3lzg\", \"4n482ts\", \"a307vir\"]\n",
        "\n",
        "# Assign `new_user` to the username of a new approved user\n",
        "new_user = \"gesparza\"\n",
        "\n",
        "# Assign `new_device` to the device ID of the new approved user\n",
        "new_device = \"3rcv4w6\"\n",
        "\n",
        "# Add that user's username and device ID to `approved_users` and `approved_devices` respectively\n",
        "approved_users.append(new_user)\n",
        "approved_devices.append(new_device)\n",
        "\n",
        "# Display the contents of `approved_users`\n",
        "print(approved_users)\n",
        "\n",
        "# Diplay the contents of `approved_devices`\n",
        "print(approved_devices)\n"
      ],
      "metadata": {
        "colab": {
          "base_uri": "https://localhost:8080/"
        },
        "id": "fxZFyfniz1Wr",
        "outputId": "f2e150de-e5d7-442d-8978-9f876ebf38f0"
      },
      "execution_count": null,
      "outputs": [
        {
          "output_type": "stream",
          "name": "stdout",
          "text": [
            "['elarson', 'bmoreno', 'tshah', 'sgilmore', 'eraab', 'gesparza']\n",
            "['8rp2k75', 'hl0s5o1', '2ye3lzg', '4n482ts', 'a307vir', '3rcv4w6']\n"
          ]
        }
      ]
    },
    {
      "cell_type": "code",
      "source": [
        "# Assign `approved_users` to a list of approved usernames\n",
        "approved_users = [\"elarson\", \"bmoreno\", \"tshah\", \"sgilmore\", \"eraab\"]\n",
        "\n",
        "# Assign `approved_devices` to a list of device IDs that correspond to the usernames in `approved_users`\n",
        "approved_devices = [\"8rp2k75\", \"hl0s5o1\", \"2ye3lzg\", \"4n482ts\", \"a307vir\"]\n",
        "\n",
        "# Display the element at the specified index in `approved_users`\n",
        "print(approved_users[2])\n",
        "\n",
        "# Display the element at the specified index in `approved_devices`\n",
        "print(approved_devices[2])"
      ],
      "metadata": {
        "colab": {
          "base_uri": "https://localhost:8080/"
        },
        "id": "9dceSe6TzEVK",
        "outputId": "7f4a680a-4a29-4df9-ee8e-73b22dd36010"
      },
      "execution_count": null,
      "outputs": [
        {
          "output_type": "stream",
          "name": "stdout",
          "text": [
            "tshah\n",
            "2ye3lzg\n"
          ]
        }
      ]
    },
    {
      "cell_type": "markdown",
      "source": [
        "# Strings methods / Activity: Work with strings in Python"
      ],
      "metadata": {
        "id": "aSMorpDrjI6k"
      }
    },
    {
      "cell_type": "code",
      "source": [],
      "metadata": {
        "id": "gDToN8IqyiI3"
      },
      "execution_count": null,
      "outputs": []
    },
    {
      "cell_type": "code",
      "source": [
        "# Assign `url` to a specific URL\n",
        "url = \"https://exampleURL1.com\"\n",
        "\n",
        "# Assign `ind` to the output of applying `.index()` to `url` in order to extract the starting index of \".com\" in `url`\n",
        "ind = url.index(\".com\")\n",
        "\n",
        "# Extract the website name in `url` and display it\n",
        "print(url[8:ind])"
      ],
      "metadata": {
        "colab": {
          "base_uri": "https://localhost:8080/"
        },
        "id": "3um9lfYPyE3h",
        "outputId": "4b42661f-2414-42c6-8f51-617169ea7627"
      },
      "execution_count": 1,
      "outputs": [
        {
          "output_type": "stream",
          "name": "stdout",
          "text": [
            "exampleURL1\n"
          ]
        }
      ]
    },
    {
      "cell_type": "code",
      "source": [
        "# Assign `url` to a specific URL\n",
        "url = \"https://exampleURL1.com\"\n",
        "\n",
        "# Assign `ind` to the output of applying `.index()` to `url` in order to extract the starting index of \".com\" in `url`\n",
        "ind = url.index(\".com\")\n",
        "\n",
        "# Extract the domain extension in `url` and display it\n",
        "print(url[ind:ind+4])"
      ],
      "metadata": {
        "colab": {
          "base_uri": "https://localhost:8080/"
        },
        "id": "VskbF4aSx1ah",
        "outputId": "2752060d-8df9-496e-a1a1-5fa04884031e"
      },
      "execution_count": 2,
      "outputs": [
        {
          "output_type": "stream",
          "name": "stdout",
          "text": [
            ".com\n"
          ]
        }
      ]
    },
    {
      "cell_type": "code",
      "source": [
        "# Assign `url` to a specific URL\n",
        "url = \"https://exampleURL1.com\"\n",
        "\n",
        "# Assign `ind` to the output of applying `.index()` to `url` in order to extract the starting index of \".com\" in `url`\n",
        "ind = url.index(\".com\")\n"
      ],
      "metadata": {
        "id": "oJGdjc9Axqv6"
      },
      "execution_count": 3,
      "outputs": []
    },
    {
      "cell_type": "code",
      "source": [
        "# Assign `url` to a specific URL\n",
        "url = \"https://exampleURL1.com\"\n",
        "\n",
        "# Display the index where the domain extension \".com\" is located in `url`\n",
        "print(url.index(\".com\"))"
      ],
      "metadata": {
        "colab": {
          "base_uri": "https://localhost:8080/"
        },
        "id": "Y4EhmKJaxebx",
        "outputId": "ee5ab8b0-d20a-4e9f-d279-1207a0e5f05f"
      },
      "execution_count": 4,
      "outputs": [
        {
          "output_type": "stream",
          "name": "stdout",
          "text": [
            "19\n"
          ]
        }
      ]
    },
    {
      "cell_type": "code",
      "source": [
        "# Assign `url` to a specific URL\n",
        "url = \"https://exampleURL1.com\"\n",
        "\n",
        "# Extract the protocol of `url` along with the syntax following it, display the result\n",
        "print(url[0:8])"
      ],
      "metadata": {
        "colab": {
          "base_uri": "https://localhost:8080/"
        },
        "id": "dQ75vlpcxJjZ",
        "outputId": "49433149-844d-4883-d30a-db5c454a0dd5"
      },
      "execution_count": 5,
      "outputs": [
        {
          "output_type": "stream",
          "name": "stdout",
          "text": [
            "https://\n"
          ]
        }
      ]
    },
    {
      "cell_type": "code",
      "source": [
        "# Assign `device_id` to a string that contains alphanumeric characters\n",
        "device_id = \"r262c36\"\n",
        "\n",
        "# Extract the first through the third characters in `device_id` and display the result\n",
        "print(device_id[0:3])"
      ],
      "metadata": {
        "colab": {
          "base_uri": "https://localhost:8080/"
        },
        "id": "8EYxatvGw-jQ",
        "outputId": "fe2aa1e8-af9d-414d-d4e8-1275b8d51f4b"
      },
      "execution_count": 6,
      "outputs": [
        {
          "output_type": "stream",
          "name": "stdout",
          "text": [
            "r26\n"
          ]
        }
      ]
    },
    {
      "cell_type": "code",
      "source": [
        "# Assign `device_id` to a string that contains alphanumeric characters\n",
        "device_id = \"r262c36\"\n",
        "\n",
        "# Extract the fourth character in `device_id` and display it\n",
        "print(device_id[3])"
      ],
      "metadata": {
        "colab": {
          "base_uri": "https://localhost:8080/"
        },
        "id": "G9-vCdMSwsLE",
        "outputId": "299c936b-ba63-4367-a619-bd378d454dbf"
      },
      "execution_count": 7,
      "outputs": [
        {
          "output_type": "stream",
          "name": "stdout",
          "text": [
            "2\n"
          ]
        }
      ]
    },
    {
      "cell_type": "code",
      "source": [
        "# Assign `employee_id` to a four digit number as an initial value\n",
        "employee_id = 4186\n",
        "\n",
        "# Reassign `employee_id` to the same value but in the form of a string\n",
        "employee_id = str(employee_id)\n",
        "\n",
        "# Display the `employee_id` as it currently stands\n",
        "print(employee_id)\n",
        "\n",
        "# Conditional statement that updates the `employee_id` if its length is less than 5 digits\n",
        "if len(employee_id) < 5:\n",
        "    employee_id = \"E\" + employee_id\n",
        "\n",
        "# Display the `employee_id` after the update\n",
        "print(employee_id)"
      ],
      "metadata": {
        "colab": {
          "base_uri": "https://localhost:8080/"
        },
        "id": "a9-sfDThwRSA",
        "outputId": "d5546d9b-e627-4df0-b246-1bcf44b1c954"
      },
      "execution_count": 8,
      "outputs": [
        {
          "output_type": "stream",
          "name": "stdout",
          "text": [
            "4186\n",
            "E4186\n"
          ]
        }
      ]
    },
    {
      "cell_type": "code",
      "source": [
        "# Assign `employee_id` to a four digit number as an initial value\n",
        "employee_id = 4186\n",
        "\n",
        "# Reassign `employee_id` to the same value but in the form of a string\n",
        "employee_id = str(employee_id)\n",
        "\n",
        "# Conditional statement that displays a message if the length of `employee_id` is less than five digits\n",
        "if len(employee_id) < 5:\n",
        "    print(\"This employee ID has less than five digits. It does not meet length requirements.\")"
      ],
      "metadata": {
        "colab": {
          "base_uri": "https://localhost:8080/"
        },
        "id": "fhKNfRN5wMku",
        "outputId": "e9d0dfb9-1ebe-4215-9b7c-45e84129609d"
      },
      "execution_count": 9,
      "outputs": [
        {
          "output_type": "stream",
          "name": "stdout",
          "text": [
            "This employee ID has less than five digits. It does not meet length requirements.\n"
          ]
        }
      ]
    },
    {
      "cell_type": "code",
      "source": [
        "# Assign `employee_id` to a four digit number as an initial value\n",
        "employee_id = 4186\n",
        "\n",
        "# Display the data type of `employee_id`\n",
        "print(type(employee_id))\n",
        "\n",
        "# Reassign `employee_id` to the same value but in the form of a string\n",
        "employee_id = str(employee_id)\n",
        "\n",
        "# Display the data type of `employee_id` now\n",
        "print(type(employee_id))"
      ],
      "metadata": {
        "colab": {
          "base_uri": "https://localhost:8080/"
        },
        "id": "KBh1ReR_v6ct",
        "outputId": "cda16fc4-4b11-4eca-c439-a090d10d273f"
      },
      "execution_count": 10,
      "outputs": [
        {
          "output_type": "stream",
          "name": "stdout",
          "text": [
            "<class 'int'>\n",
            "<class 'str'>\n"
          ]
        }
      ]
    },
    {
      "cell_type": "code",
      "source": [
        "tshah_index = \"tsnow, tshah, bmoreno - updated\".index(\"tshah\")\n",
        "print(tshah_index)"
      ],
      "metadata": {
        "colab": {
          "base_uri": "https://localhost:8080/"
        },
        "id": "8ZTdKZw5v1tg",
        "outputId": "bbe2893a-e156-4b99-b5ef-ea9e1a406964"
      },
      "execution_count": 11,
      "outputs": [
        {
          "output_type": "stream",
          "name": "stdout",
          "text": [
            "7\n"
          ]
        }
      ]
    },
    {
      "cell_type": "code",
      "source": [
        "print(\"r45rt46\".index(\"r\"))"
      ],
      "metadata": {
        "colab": {
          "base_uri": "https://localhost:8080/"
        },
        "id": "fGrviDjGvybI",
        "outputId": "7ad69ff4-cf65-4468-f1fe-d96188eb6f9e"
      },
      "execution_count": 12,
      "outputs": [
        {
          "output_type": "stream",
          "name": "stdout",
          "text": [
            "0\n"
          ]
        }
      ]
    },
    {
      "cell_type": "code",
      "source": [
        "print(\"h32rb17\".index(\"r\"))"
      ],
      "metadata": {
        "colab": {
          "base_uri": "https://localhost:8080/"
        },
        "id": "VGWCC2UuvxBE",
        "outputId": "9c41cc44-fcb8-41ba-889d-f130725f97fa"
      },
      "execution_count": 13,
      "outputs": [
        {
          "output_type": "stream",
          "name": "stdout",
          "text": [
            "3\n"
          ]
        }
      ]
    },
    {
      "cell_type": "code",
      "source": [
        "device_id_length = len(\"h32rb17\")\n",
        "if device_id_length == 7:\n",
        "    print(\"The device ID has 7 characters.\")"
      ],
      "metadata": {
        "colab": {
          "base_uri": "https://localhost:8080/"
        },
        "id": "ykN-GM5TvuJB",
        "outputId": "02f219a8-e733-41b8-8e86-6b79e4531ccd"
      },
      "execution_count": 14,
      "outputs": [
        {
          "output_type": "stream",
          "name": "stdout",
          "text": [
            "The device ID has 7 characters.\n"
          ]
        }
      ]
    },
    {
      "cell_type": "code",
      "source": [
        "print(\"h32rb17\"[0:3])"
      ],
      "metadata": {
        "colab": {
          "base_uri": "https://localhost:8080/"
        },
        "id": "OlaUA9xovrwr",
        "outputId": "613d6f33-9d66-473f-ef65-2b203bd38d3c"
      },
      "execution_count": 15,
      "outputs": [
        {
          "output_type": "stream",
          "name": "stdout",
          "text": [
            "h32\n"
          ]
        }
      ]
    },
    {
      "cell_type": "code",
      "source": [
        "device_id = \"h32rb17\"\n",
        "print(\"h32rb17\"[0])\n",
        "print(device_id[0])"
      ],
      "metadata": {
        "colab": {
          "base_uri": "https://localhost:8080/"
        },
        "id": "JtzRrGvDvp5R",
        "outputId": "8714ce60-0872-4198-bf55-38e47bbfd092"
      },
      "execution_count": 16,
      "outputs": [
        {
          "output_type": "stream",
          "name": "stdout",
          "text": [
            "h\n",
            "h\n"
          ]
        }
      ]
    },
    {
      "cell_type": "markdown",
      "source": [
        "# Activity: Create more functions"
      ],
      "metadata": {
        "id": "d8tTzVfZf3xZ"
      }
    },
    {
      "cell_type": "code",
      "source": [
        "# Define a function named `analyze_logins()` that takes in three parameters, `username`, `current_day_logins`, and `average_day_logins`\n",
        "def analyze_logins(username, current_day_logins, average_day_logins):\n",
        "\n",
        "    # Display a message about how many login attempts the user has made that day\n",
        "    print(\"Current day login total for\", username, \"is\", current_day_logins)\n",
        "\n",
        "    # Display a message about average number of login attempts the user has made that day\n",
        "    print(\"Average logins per day for\", username, \"is\", average_day_logins)\n",
        "\n",
        "    # Calculate the ratio of the logins made on the current day to the logins made on an average day, storing in a variable named `login_ratio`\n",
        "    login_ratio = current_day_logins / average_day_logins\n",
        "\n",
        "    # Return the ratio\n",
        "    return login_ratio\n",
        "\n",
        "# Call `analyze_logins() and store the output in a variable named `login_analysis`\n",
        "login_analysis = analyze_logins(\"ejones\", 9, 3)\n",
        "\n",
        "# Conditional statement that displays an alert about the login activity if it's more than normal\n",
        "if login_analysis >= 3:\n",
        "    print(\"Alert! This account has more login activity than normal.\")"
      ],
      "metadata": {
        "colab": {
          "base_uri": "https://localhost:8080/"
        },
        "id": "BxMAlgBUib6W",
        "outputId": "c145416f-1067-4810-ec38-ee02e7b3e690"
      },
      "execution_count": null,
      "outputs": [
        {
          "output_type": "stream",
          "name": "stdout",
          "text": [
            "Current day login total for ejones is 9\n",
            "Average logins per day for ejones is 3\n",
            "Alert! This account has more login activity than normal.\n"
          ]
        }
      ]
    },
    {
      "cell_type": "code",
      "source": [
        "# Define a function named `analyze_logins()` that takes in three parameters, `username`, `current_day_logins`, and `average_day_logins`\n",
        "def analyze_logins(username, current_day_logins, average_day_logins):\n",
        "\n",
        "    # Display a message about how many login attempts the user has made that day\n",
        "    print(\"Current day login total for\", username, \"is\", current_day_logins)\n",
        "\n",
        "    # Display a message about average number of login attempts the user has made that day\n",
        "    print(\"Average logins per day for\", username, \"is\", average_day_logins)\n",
        "\n",
        "    # Calculate the ratio of the logins made on the current day to the logins made on an average day, storing in a variable named `login_ratio`\n",
        "    login_ratio = current_day_logins / average_day_logins\n",
        "\n",
        "    # Return the ratio\n",
        "    return login_ratio\n",
        "\n",
        "# Call `analyze_logins() and store the output in a variable named `login_analysis`\n",
        "login_analysis = analyze_logins(\"ejones\", 9, 3)\n",
        "\n",
        "# Display a message about the `login_analysis`\n",
        "print(\"ejones\", \"logged in\", login_analysis, \"times as much as they do on an average day.\")"
      ],
      "metadata": {
        "id": "lZg9GVaEh2-L"
      },
      "execution_count": null,
      "outputs": []
    },
    {
      "cell_type": "code",
      "source": [
        "# Define a function named `analyze_logins()` that takes in three parameters, `username`, `current_day_logins`, and `average_day_logins`\n",
        "def analyze_logins(username, current_day_logins, average_day_logins):\n",
        "\n",
        "    # Display a message about how many login attempts the user has made that day\n",
        "    print(\"Current day login total for\", username, \"is\", current_day_logins)\n",
        "\n",
        "    # Display a message about average number of login attempts the user has made that day\n",
        "    print(\"Average logins per day for\", username, \"is\", average_day_logins)\n",
        "\n",
        "    # Calculate the ratio of the logins made on the current day to the logins made on an average day, storing in a variable named `login_ratio`\n",
        "    login_ratio = current_day_logins / average_day_logins\n",
        "\n",
        "    # Display a message about the ratio\n",
        "    print(username, \"logged in\", login_ratio, \"times as much as they do on an average day.\")\n",
        "\n",
        "# Call `analyze_logins()`\n",
        "analyze_logins(\"ejones\", 9, 3)"
      ],
      "metadata": {
        "colab": {
          "base_uri": "https://localhost:8080/"
        },
        "id": "A5j0Yq9RhZX3",
        "outputId": "b26a4139-3435-4203-ce54-c1dcf2e84a51"
      },
      "execution_count": null,
      "outputs": [
        {
          "output_type": "stream",
          "name": "stdout",
          "text": [
            "Current day login total for ejones is 9\n",
            "Average logins per day for ejones is 3\n",
            "ejones logged in 3.0 times as much as they do on an average day.\n"
          ]
        }
      ]
    },
    {
      "cell_type": "code",
      "source": [
        "# Define a function named `analyze_logins()` that takes in three parameters, `username`, `current_day_logins`, and `average_day_logins`\n",
        "def analyze_logins(username, current_day_logins, average_day_logins):\n",
        "\n",
        "    # Display a message about how many login attempts the user has made that day\n",
        "    print(\"Current day login total for\", username, \"is\", current_day_logins)\n",
        "\n",
        "    # Display a message about average number of login attempts the user has made that day\n",
        "    print(\"Average logins per day for\", username, \"is\", average_day_logins)\n",
        "\n",
        "# Call `analyze_logins()`\n",
        "analyze_logins(\"ejones\", 9, 3)"
      ],
      "metadata": {
        "colab": {
          "base_uri": "https://localhost:8080/"
        },
        "id": "BSfLXen3g76p",
        "outputId": "0b94cde6-0b11-441d-ac56-7f6dd90ebf13"
      },
      "execution_count": null,
      "outputs": [
        {
          "output_type": "stream",
          "name": "stdout",
          "text": [
            "Current day login total for ejones is 9\n",
            "Average logins per day for ejones is 3\n"
          ]
        }
      ]
    },
    {
      "cell_type": "code",
      "source": [
        "# Define a function named `analyze_logins()` that takes in two parameters, `username` and `current_day_logins`\n",
        "def analyze_logins(username, current_day_logins):\n",
        "\n",
        "    # Display a message about how many login attempts the user has made that day\n",
        "    print(\"Current day login total for\", username, \"is\", current_day_logins)\n",
        "\n",
        "# Call `analyze_logins()`\n",
        "analyze_logins(\"ejones\", 9)"
      ],
      "metadata": {
        "colab": {
          "base_uri": "https://localhost:8080/"
        },
        "id": "BgEQmwcmg4py",
        "outputId": "3e794525-121f-4a21-d8a1-218dc3340569"
      },
      "execution_count": null,
      "outputs": [
        {
          "output_type": "stream",
          "name": "stdout",
          "text": [
            "Current day login total for ejones is 9\n"
          ]
        }
      ]
    },
    {
      "cell_type": "code",
      "source": [
        "# Define a function named `analyze_logins()` that takes in two parameters, `username` and `current_day_logins`\n",
        "def analyze_logins(username, current_day_logins):\n",
        "\n",
        "    # Display a message about how many login attempts the user has made that day\n",
        "    print(\"Current day login total for\", username, \"is\", current_day_logins)"
      ],
      "metadata": {
        "id": "N4-Wi6Lygg2G"
      },
      "execution_count": null,
      "outputs": []
    },
    {
      "cell_type": "code",
      "source": [
        "# Assign `failed_login_list` to the list of the number of failed login attempts per month\n",
        "failed_login_list = [119, 101, 99, 91, 92, 105, 108, 85, 88, 90, 264, 223]\n",
        "\n",
        "# Determine the highest number of failed login attempts from `failed_login_list` and display the result\n",
        "print(max(failed_login_list))"
      ],
      "metadata": {
        "colab": {
          "base_uri": "https://localhost:8080/"
        },
        "id": "5RcOv5ifgR4R",
        "outputId": "96d4e4fb-183b-4c65-d486-4a3b14058530"
      },
      "execution_count": null,
      "outputs": [
        {
          "output_type": "stream",
          "name": "stdout",
          "text": [
            "264\n"
          ]
        }
      ]
    },
    {
      "cell_type": "code",
      "source": [
        "# Assign `failed_login_list` to the list of the number of failed login attempts per month\n",
        "failed_login_list = [119, 101, 99, 91, 92, 105, 108, 85, 88, 90, 264, 223]\n",
        "\n",
        "# Sort `failed_login_list` in ascending numerical order and display the result\n",
        "print(sorted(failed_login_list))"
      ],
      "metadata": {
        "colab": {
          "base_uri": "https://localhost:8080/"
        },
        "id": "Nxzrf-KEf564",
        "outputId": "0cf716d1-2e87-4ce2-f780-edf32ab667a8"
      },
      "execution_count": null,
      "outputs": [
        {
          "output_type": "stream",
          "name": "stdout",
          "text": [
            "[85, 88, 90, 91, 92, 99, 101, 105, 108, 119, 223, 264]\n"
          ]
        }
      ]
    },
    {
      "cell_type": "markdown",
      "source": [
        "# Built-in functions"
      ],
      "metadata": {
        "id": "rym5xGB2dffd"
      }
    },
    {
      "cell_type": "code",
      "source": [],
      "metadata": {
        "id": "1EWDrT8QfruM"
      },
      "execution_count": null,
      "outputs": []
    },
    {
      "cell_type": "code",
      "source": [
        "# sorted() cntd\n",
        "time_list = [12, 2, 32, 19, 57, 22, 14]\n",
        "print(sorted(time_list))\n",
        "print(time_list)"
      ],
      "metadata": {
        "colab": {
          "base_uri": "https://localhost:8080/"
        },
        "id": "bagBrdq4ez-N",
        "outputId": "43e9c910-09f9-43f1-8e3d-5bdfe4d41f47"
      },
      "execution_count": null,
      "outputs": [
        {
          "output_type": "stream",
          "name": "stdout",
          "text": [
            "[2, 12, 14, 19, 22, 32, 57]\n",
            "[12, 2, 32, 19, 57, 22, 14]\n"
          ]
        }
      ]
    },
    {
      "cell_type": "code",
      "source": [
        "# sorted()\n",
        "time_list = [12, 2, 32, 19, 57, 22, 14]\n",
        "print(sorted(time_list))"
      ],
      "metadata": {
        "colab": {
          "base_uri": "https://localhost:8080/"
        },
        "id": "NXuyt1sReqnl",
        "outputId": "84212661-de5b-4933-d6d5-854d9b9a7e0b"
      },
      "execution_count": null,
      "outputs": [
        {
          "output_type": "stream",
          "name": "stdout",
          "text": [
            "[2, 12, 14, 19, 22, 32, 57]\n"
          ]
        }
      ]
    },
    {
      "cell_type": "code",
      "source": [
        "# min() and max()\n",
        "time_list = [12, 2, 32, 19, 57, 22, 14]\n",
        "print(min(time_list))\n",
        "print(max(time_list))"
      ],
      "metadata": {
        "colab": {
          "base_uri": "https://localhost:8080/"
        },
        "id": "3V5Y1cdJeEPL",
        "outputId": "1cdd061b-cd02-49cc-bd1a-22c0aa70aaa2"
      },
      "execution_count": null,
      "outputs": [
        {
          "output_type": "stream",
          "name": "stdout",
          "text": [
            "2\n",
            "57\n"
          ]
        }
      ]
    },
    {
      "cell_type": "code",
      "source": [
        "# type()\n",
        "print(type(\"This is a string\"))"
      ],
      "metadata": {
        "colab": {
          "base_uri": "https://localhost:8080/"
        },
        "id": "tduE1ZDJdoNV",
        "outputId": "d7a65087-db5e-4fa0-a8f0-df570c77410d"
      },
      "execution_count": null,
      "outputs": [
        {
          "output_type": "stream",
          "name": "stdout",
          "text": [
            "<class 'str'>\n"
          ]
        }
      ]
    },
    {
      "cell_type": "code",
      "source": [
        "# print()\n",
        "month = \"September\"\n",
        "print(\"Investigate failed login attempts during\", month, \"if more than\", 100)"
      ],
      "metadata": {
        "colab": {
          "base_uri": "https://localhost:8080/"
        },
        "id": "tf93lYCDdlMG",
        "outputId": "40789289-cd84-4a7b-929d-c5402e8c8f6d"
      },
      "execution_count": null,
      "outputs": [
        {
          "output_type": "stream",
          "name": "stdout",
          "text": [
            "Investigate failed login attempts during September if more than 100\n"
          ]
        }
      ]
    },
    {
      "cell_type": "markdown",
      "source": [
        "# Activity: Define and call a function"
      ],
      "metadata": {
        "id": "pvU_66k1uwFa"
      }
    },
    {
      "cell_type": "code",
      "source": [
        "# Define a function named `list_to_string()`\n",
        "def list_to_string():\n",
        "\n",
        "  # Store the list of approved usernames in a variable named `username_list`\n",
        "  username_list = [\"elarson\", \"bmoreno\", \"tshah\", \"sgilmore\", \"eraab\", \"gesparza\", \"alevitsk\", \"wjaffrey\"]\n",
        "\n",
        "  # Assign `sum_variable` to an empty string\n",
        "  sum_variable = \"\"\n",
        "\n",
        "  # Write a for loop that iterates through the elements of `username_list` and displays each element\n",
        "  for i in username_list:\n",
        "    sum_variable = sum_variable + i + \", \"\n",
        "\n",
        "  # Display the value of `sum_variable`\n",
        "  print(sum_variable)\n",
        "\n",
        "# Call the `list_to_string()` function\n",
        "list_to_string()"
      ],
      "metadata": {
        "colab": {
          "base_uri": "https://localhost:8080/"
        },
        "id": "EDbEFxCUxfd-",
        "outputId": "11dcfd87-21c9-4704-bbb1-b56f3b9910cf"
      },
      "execution_count": null,
      "outputs": [
        {
          "output_type": "stream",
          "name": "stdout",
          "text": [
            "elarson, bmoreno, tshah, sgilmore, eraab, gesparza, alevitsk, wjaffrey, \n"
          ]
        }
      ]
    },
    {
      "cell_type": "code",
      "source": [
        "# Define a function named `list_to_string()`\n",
        "def list_to_string():\n",
        "\n",
        "  # Store the list of approved usernames in a variable named `username_list`\n",
        "  username_list = [\"elarson\", \"bmoreno\", \"tshah\", \"sgilmore\", \"eraab\", \"gesparza\", \"alevitsk\", \"wjaffrey\"]\n",
        "\n",
        "  # Assign `sum_variable` to an empty string\n",
        "  sum_variable = \"\"\n",
        "\n",
        "  # Write a for loop that iterates through the elements of `username_list` and displays each element\n",
        "  for i in username_list:\n",
        "    sum_variable = sum_variable + i\n",
        "\n",
        "  # Display the value of `sum_variable`\n",
        "  print(sum_variable)\n",
        "\n",
        "# Call the `list_to_string()` function\n",
        "list_to_string()"
      ],
      "metadata": {
        "colab": {
          "base_uri": "https://localhost:8080/"
        },
        "id": "nMIwNQH-w-rT",
        "outputId": "ee3d2c02-bbd5-4404-fc9a-227ef5b2285f"
      },
      "execution_count": null,
      "outputs": [
        {
          "output_type": "stream",
          "name": "stdout",
          "text": [
            "elarsonbmorenotshahsgilmoreeraabgesparzaalevitskwjaffrey\n"
          ]
        }
      ]
    },
    {
      "cell_type": "code",
      "source": [
        "# Define a function named `list_to_string()`\n",
        "def list_to_string():\n",
        "\n",
        "    # Store the list of approved usernames in a variable named `username_list`\n",
        "    username_list = [\"elarson\", \"bmoreno\", \"tshah\", \"sgilmore\", \"eraab\", \"gesparza\", \"alevitsk\", \"wjaffrey\"]\n",
        "\n",
        "    # Write a for loop that iterates through the elements of `username_list` and displays each element\n",
        "    for i in username_list:\n",
        "      print(i)\n",
        "\n",
        "# Call the `list_to_string()` function\n",
        "list_to_string()"
      ],
      "metadata": {
        "colab": {
          "base_uri": "https://localhost:8080/"
        },
        "id": "YovTvLCVwC3l",
        "outputId": "29f070c4-3695-428b-eac9-88962c026c85"
      },
      "execution_count": null,
      "outputs": [
        {
          "output_type": "stream",
          "name": "stdout",
          "text": [
            "elarson\n",
            "bmoreno\n",
            "tshah\n",
            "sgilmore\n",
            "eraab\n",
            "gesparza\n",
            "alevitsk\n",
            "wjaffrey\n"
          ]
        }
      ]
    },
    {
      "cell_type": "code",
      "source": [
        "# Define a function named `alert()`\n",
        "def alert():\n",
        "    for i in range(3):\n",
        "      print(\"Potential security issue. Investigate further.\")\n",
        "\n",
        "# Call the `alert()` function\n",
        "alert()"
      ],
      "metadata": {
        "colab": {
          "base_uri": "https://localhost:8080/"
        },
        "id": "GdvlSa5LvcZ1",
        "outputId": "8e44a99e-685b-4c6f-ca09-bb757912b5d6"
      },
      "execution_count": null,
      "outputs": [
        {
          "output_type": "stream",
          "name": "stdout",
          "text": [
            "Potential security issue. Investigate further.\n",
            "Potential security issue. Investigate further.\n",
            "Potential security issue. Investigate further.\n"
          ]
        }
      ]
    },
    {
      "cell_type": "code",
      "source": [
        "# Define a function named `alert()`\n",
        "def alert():\n",
        "    print(\"Potential security issue. Investigate further.\")\n",
        "\n",
        "# Call the `alert()` function\n",
        "alert()"
      ],
      "metadata": {
        "colab": {
          "base_uri": "https://localhost:8080/"
        },
        "id": "omAZcoDOvUkD",
        "outputId": "58486570-5b13-4fe5-bff4-2115b219116b"
      },
      "execution_count": null,
      "outputs": [
        {
          "output_type": "stream",
          "name": "stdout",
          "text": [
            "Potential security issue. Investigate further.\n"
          ]
        }
      ]
    },
    {
      "cell_type": "code",
      "source": [
        "# Define a function named `alert()`\n",
        "\n",
        "def alert():\n",
        "    print(\"Potential security issue. Investigate further.\")"
      ],
      "metadata": {
        "id": "aNtQQqhisNH3"
      },
      "execution_count": null,
      "outputs": []
    },
    {
      "cell_type": "code",
      "source": [
        "def display_investigation_message():\n",
        "    print(\"investigate activity\")\n",
        "\n",
        "application_status = \"potential concern\"\n",
        "email_status = \"okay\"\n",
        "\n",
        "if application_status == \"potential concern\":\n",
        "    print(\"application_log:\")\n",
        "    display_investigation_message()\n",
        "if email_status == \"potential concern\":\n",
        "    print(\"email log:\")\n",
        "    display_investigation_message()"
      ],
      "metadata": {
        "colab": {
          "base_uri": "https://localhost:8080/"
        },
        "id": "51mGl8VxnI6A",
        "outputId": "81657b16-b344-4bf2-ce88-b8ab2bb1d37d"
      },
      "execution_count": null,
      "outputs": [
        {
          "output_type": "stream",
          "name": "stdout",
          "text": [
            "application_log:\n",
            "investigate activity\n"
          ]
        }
      ]
    },
    {
      "cell_type": "markdown",
      "source": [
        "# Loops & Variables"
      ],
      "metadata": {
        "id": "KfJhrikOu8Ha"
      }
    },
    {
      "cell_type": "code",
      "source": [
        "# Assign the loop variable `i` to an initial value of 5000\n",
        "i = 5000\n",
        "\n",
        "# While loop that generates unique employee IDs for the Sales department by iterating through numbers\n",
        "# and displays each ID created\n",
        "# This loop displays \"Only 10 valid employee ids remaining\" once `i` reaches 5100\n",
        "while i <= 5150:\n",
        "    print(i)\n",
        "    if (i == 5100):\n",
        "        print(\"Only 10 valid employee ids remaining\")\n",
        "    i = i + 5"
      ],
      "metadata": {
        "colab": {
          "base_uri": "https://localhost:8080/"
        },
        "id": "4wrd6VW6nmjI",
        "outputId": "4ff5adfc-f13a-4c7e-f40f-421173edfa3f"
      },
      "execution_count": null,
      "outputs": [
        {
          "output_type": "stream",
          "name": "stdout",
          "text": [
            "5000\n",
            "5005\n",
            "5010\n",
            "5015\n",
            "5020\n",
            "5025\n",
            "5030\n",
            "5035\n",
            "5040\n",
            "5045\n",
            "5050\n",
            "5055\n",
            "5060\n",
            "5065\n",
            "5070\n",
            "5075\n",
            "5080\n",
            "5085\n",
            "5090\n",
            "5095\n",
            "5100\n",
            "Only 10 valid employee ids remaining\n",
            "5105\n",
            "5110\n",
            "5115\n",
            "5120\n",
            "5125\n",
            "5130\n",
            "5135\n",
            "5140\n",
            "5145\n",
            "5150\n"
          ]
        }
      ]
    },
    {
      "cell_type": "code",
      "source": [
        "# Assign the loop variable `i` to an initial value of 5000\n",
        "i = 5000\n",
        "\n",
        "# While loop that generates unique employee IDs for the Sales department by iterating through numbers\n",
        "# and displays each ID created\n",
        "\n",
        "while i < 5151 and i % 5 == 0:\n",
        "    print(i)\n",
        "    i = i + 5"
      ],
      "metadata": {
        "colab": {
          "base_uri": "https://localhost:8080/"
        },
        "id": "6A0VzwtLnEM3",
        "outputId": "9b280849-5d31-471c-f21e-7dd6901b1bb9"
      },
      "execution_count": null,
      "outputs": [
        {
          "output_type": "stream",
          "name": "stdout",
          "text": [
            "5000\n",
            "5005\n",
            "5010\n",
            "5015\n",
            "5020\n",
            "5025\n",
            "5030\n",
            "5035\n",
            "5040\n",
            "5045\n",
            "5050\n",
            "5055\n",
            "5060\n",
            "5065\n",
            "5070\n",
            "5075\n",
            "5080\n",
            "5085\n",
            "5090\n",
            "5095\n",
            "5100\n",
            "5105\n",
            "5110\n",
            "5115\n",
            "5120\n",
            "5125\n",
            "5130\n",
            "5135\n",
            "5140\n",
            "5145\n",
            "5150\n"
          ]
        }
      ]
    },
    {
      "cell_type": "code",
      "source": [
        "# Assign `allow_list` to a list of IP addresses that are allowed to log in\n",
        "allow_list = [\"192.168.243.140\", \"192.168.205.12\", \"192.168.151.162\", \"192.168.178.71\",\n",
        "              \"192.168.86.232\", \"192.168.3.24\", \"192.168.170.243\", \"192.168.119.173\"]\n",
        "\n",
        "# Assign `ip_addresses` to a list of IP addresses from which users have tried to log in\n",
        "ip_addresses = [\"192.168.142.245\", \"192.168.109.50\", \"192.168.86.232\", \"192.168.131.147\",\n",
        "                \"192.168.205.12\", \"192.168.200.48\"]\n",
        "\n",
        "# For each IP address in the list of IP addresses from which users have tried to log in,\n",
        "# If it is among the allowed addresses, then display “IP address is allowed”\n",
        "# Otherwise, display “IP address is not allowed”\n",
        "\n",
        "for i in ip_addresses:\n",
        "\tif i in allow_list:\n",
        "\t\tprint(\"IP address is allowed\")\n",
        "\telse:\n",
        "\t\tprint(\"IP addess is not allowed. Further investigation of login activity required\")\n",
        "\t\tbreak;"
      ],
      "metadata": {
        "colab": {
          "base_uri": "https://localhost:8080/"
        },
        "id": "xxjjVGUQmKSr",
        "outputId": "b80db543-04de-4720-9a3e-b246ea6057d9"
      },
      "execution_count": null,
      "outputs": [
        {
          "output_type": "stream",
          "name": "stdout",
          "text": [
            "IP addess is not allowed. Further investigation of login activity required\n"
          ]
        }
      ]
    },
    {
      "cell_type": "code",
      "source": [
        "# Assign `allow_list` to a list of IP addresses that are allowed to log in\n",
        "allow_list = [\"192.168.243.140\", \"192.168.205.12\", \"192.168.151.162\", \"192.168.178.71\",\n",
        "              \"192.168.86.232\", \"192.168.3.24\", \"192.168.170.243\", \"192.168.119.173\"]\n",
        "\n",
        "# Assign `ip_addresses` to a list of IP addresses from which users have tried to log in\n",
        "ip_addresses = [\"192.168.142.245\", \"192.168.109.50\", \"192.168.86.232\", \"192.168.131.147\",\n",
        "                \"192.168.205.12\", \"192.168.200.48\"]\n",
        "\n",
        "# For each IP address in the list of IP addresses from which users have tried to log in,\n",
        "# If it is among the allowed addresses, then display “IP address is allowed”\n",
        "# Otherwise, display “IP address is not allowed”\n",
        "for i in ip_addresses:\n",
        "\tif i in allow_list:\n",
        "\t\tprint(\"IP address is allowed\")\n",
        "\telse:\n",
        "\t\tprint(\"IP address is not allowed\")"
      ],
      "metadata": {
        "colab": {
          "base_uri": "https://localhost:8080/"
        },
        "id": "r3r3heSslab4",
        "outputId": "0ae236de-3ad4-481c-d005-10021ff4adcb"
      },
      "execution_count": null,
      "outputs": [
        {
          "output_type": "stream",
          "name": "stdout",
          "text": [
            "IP address is not allowed\n",
            "IP address is not allowed\n",
            "IP address is allowed\n",
            "IP address is not allowed\n",
            "IP address is allowed\n",
            "IP address is not allowed\n"
          ]
        }
      ]
    },
    {
      "cell_type": "code",
      "source": [
        "# Assign `ip_addresses` to a list of IP addresses from which users have tried to log in\n",
        "ip_addresses = [\"192.168.142.245\", \"192.168.109.50\", \"192.168.86.232\", \"192.168.131.147\",\n",
        "                \"192.168.205.12\", \"192.168.200.48\"]\n",
        "\n",
        "# For loop that displays the elements of `ip_addresses` one at a time\n",
        "for i in ip_addresses:\n",
        "    print(i)"
      ],
      "metadata": {
        "colab": {
          "base_uri": "https://localhost:8080/"
        },
        "id": "JxYJ4LRtk7xd",
        "outputId": "619b8d1f-4d1b-481e-bd9f-706fa5983751"
      },
      "execution_count": null,
      "outputs": [
        {
          "output_type": "stream",
          "name": "stdout",
          "text": [
            "192.168.142.245\n",
            "192.168.109.50\n",
            "192.168.86.232\n",
            "192.168.131.147\n",
            "192.168.205.12\n",
            "192.168.200.48\n"
          ]
        }
      ]
    },
    {
      "cell_type": "code",
      "source": [
        "# Assign `connection_attempts` to an initial value of 0, to keep track of how many times the user has tried to connect to the network\n",
        "connection_attempts = 0\n",
        "\n",
        "# Iterative statement using `while` and `connection_attempts`\n",
        "# Display \"Connection could not be established.\" every iteration, until connection_attempts reaches a specified number\n",
        "while (connection_attempts < 4):\n",
        "    print(\"Connection could not be established\")\n",
        "\n",
        "    # Update `connection_attempts` (increment it by 1 at the end of each iteration)\n",
        "    connection_attempts = connection_attempts + 1\n"
      ],
      "metadata": {
        "colab": {
          "base_uri": "https://localhost:8080/"
        },
        "id": "kWA0QQtbkkzA",
        "outputId": "85e701ac-dadb-4878-a2d5-43768a326ee2"
      },
      "execution_count": null,
      "outputs": [
        {
          "output_type": "stream",
          "name": "stdout",
          "text": [
            "Connection could not be established\n",
            "Connection could not be established\n",
            "Connection could not be established\n",
            "Connection could not be established\n"
          ]
        }
      ]
    },
    {
      "cell_type": "code",
      "source": [
        "# Create a variable called `connection_attempts` that stores the number of times the user has tried to connect to the network\n",
        "connection_attempts = 5\n",
        "\n",
        "# Iterative statement using `for`, `range()`, a loop variable of `i`, and `connection_attempts`\n",
        "# Display \"Connection could not be established.\" as many times as specified by `connection_attempts`\n",
        "for i in range(connection_attempts):\n",
        "    print(\"Connection could not be established\")"
      ],
      "metadata": {
        "colab": {
          "base_uri": "https://localhost:8080/"
        },
        "id": "qrbTrjKAkKFF",
        "outputId": "78b3ba9a-cdca-4a4b-91f2-33f30ab88a2a"
      },
      "execution_count": null,
      "outputs": [
        {
          "output_type": "stream",
          "name": "stdout",
          "text": [
            "Connection could not be established\n",
            "Connection could not be established\n",
            "Connection could not be established\n",
            "Connection could not be established\n",
            "Connection could not be established\n"
          ]
        }
      ]
    },
    {
      "cell_type": "code",
      "source": [
        "# Iterative statement using `for`, `range()`, and a loop variable of `i`\n",
        "# Display \"Connection could not be established.\" three times\n",
        "for i in range(3):\n",
        "    print(\"Connection could not be established.\")"
      ],
      "metadata": {
        "colab": {
          "base_uri": "https://localhost:8080/"
        },
        "id": "VFHe2esXj0DQ",
        "outputId": "59fa6bef-5b31-48f5-dc16-a64e4f232013"
      },
      "execution_count": null,
      "outputs": [
        {
          "output_type": "stream",
          "name": "stdout",
          "text": [
            "Connection could not be established.\n",
            "Connection could not be established.\n",
            "Connection could not be established.\n"
          ]
        }
      ]
    },
    {
      "cell_type": "code",
      "source": [
        "i = 1\n",
        "while i < 5:\n",
        "    print(i)\n",
        "    i = i + 1"
      ],
      "metadata": {
        "id": "8TkPpKWAfj1W",
        "outputId": "050f8758-27a7-478b-f36a-17c7b363b671",
        "colab": {
          "base_uri": "https://localhost:8080/"
        }
      },
      "execution_count": null,
      "outputs": [
        {
          "output_type": "stream",
          "name": "stdout",
          "text": [
            "1\n",
            "2\n",
            "3\n",
            "4\n"
          ]
        }
      ]
    },
    {
      "cell_type": "code",
      "source": [
        "for i in range(5):\n",
        "    print(i)"
      ],
      "metadata": {
        "colab": {
          "base_uri": "https://localhost:8080/"
        },
        "id": "LDXsPbG0fdUn",
        "outputId": "475eaec4-36b2-4ac8-d337-63e1d92e1f27"
      },
      "execution_count": null,
      "outputs": [
        {
          "output_type": "stream",
          "name": "stdout",
          "text": [
            "0\n",
            "1\n",
            "2\n",
            "3\n",
            "4\n"
          ]
        }
      ]
    },
    {
      "cell_type": "code",
      "source": [
        "string = \"security\"\n",
        "for character in string:\n",
        "    print(character)"
      ],
      "metadata": {
        "colab": {
          "base_uri": "https://localhost:8080/"
        },
        "id": "siRhtoyJe_GQ",
        "outputId": "c1f7e4e4-04ef-4617-e537-73f75f9a14d4"
      },
      "execution_count": null,
      "outputs": [
        {
          "output_type": "stream",
          "name": "stdout",
          "text": [
            "s\n",
            "e\n",
            "c\n",
            "u\n",
            "r\n",
            "i\n",
            "t\n",
            "y\n"
          ]
        }
      ]
    },
    {
      "cell_type": "code",
      "source": [
        "computer_assets = [\"laptop1\", \"desktop20\", \"smartphone03\"]\n",
        "for asset in computer_assets:\n",
        "    print(asset)"
      ],
      "metadata": {
        "colab": {
          "base_uri": "https://localhost:8080/"
        },
        "id": "7CrM4qrle7Lo",
        "outputId": "1bda1dac-55d9-48e7-fbd8-f118766aca07"
      },
      "execution_count": null,
      "outputs": [
        {
          "output_type": "stream",
          "name": "stdout",
          "text": [
            "laptop1\n",
            "desktop20\n",
            "smartphone03\n"
          ]
        }
      ]
    },
    {
      "cell_type": "code",
      "source": [
        "for i in [\"elarson\", \"bmoreno\", \"tshah\", \"sgilmore\"]:\n",
        "    print(i)"
      ],
      "metadata": {
        "colab": {
          "base_uri": "https://localhost:8080/"
        },
        "id": "CZslcGl8ZDnP",
        "outputId": "acf9a326-db4a-4739-b4be-79324321503b"
      },
      "execution_count": null,
      "outputs": [
        {
          "output_type": "stream",
          "name": "stdout",
          "text": [
            "elarson\n",
            "bmoreno\n",
            "tshah\n",
            "sgilmore\n"
          ]
        }
      ]
    },
    {
      "cell_type": "code",
      "source": [
        "# Assign `approved_list` to a list of approved usernames\n",
        "approved_list = [\"elarson\", \"bmoreno\", \"tshah\", \"sgilmore\", \"eraab\"]\n",
        "\n",
        "# Assign `username` to the username of a specific user trying to log in\n",
        "username = \"bmoreno\"\n",
        "\n",
        "# Assign `organization_hours` to a Boolean value that represents whether the user is trying to log in during organization hours\n",
        "organization_hours = True\n",
        "\n",
        "# If the user is among the approved users and they are logging in during organization hours, then convey that the user is logged in\n",
        "# Otherwise, convey that either the username is not approved or the login attempt was made outside of organization hours\n",
        "if username in approved_list and organization_hours == True:\n",
        "    print(\"Login attempt made by an approved user during organization hours.\")\n",
        "else:\n",
        "    print(\"Username not approved or login attempt made outside of organization hours.\")"
      ],
      "metadata": {
        "colab": {
          "base_uri": "https://localhost:8080/"
        },
        "id": "sqApxmAUZNW7",
        "outputId": "b3a86116-cf2c-4123-fd28-ce04fabc9f44"
      },
      "execution_count": null,
      "outputs": [
        {
          "output_type": "stream",
          "name": "stdout",
          "text": [
            "Login attempt made by an approved user during organization hours.\n"
          ]
        }
      ]
    },
    {
      "cell_type": "code",
      "source": [
        "# Assign `approved_list` to a list of approved usernames\n",
        "approved_list = [\"elarson\", \"bmoreno\", \"tshah\", \"sgilmore\", \"eraab\"]\n",
        "\n",
        "# Assign `username` to the username of a specific user trying to log in\n",
        "username = \"bmoreno\"\n",
        "\n",
        "# If the user trying to log in is among the approved users, then display a message that they are approved to access this device\n",
        "# Otherwise, display a message that they do not have access to this device\n",
        "if username in approved_list:\n",
        "    print(\"This user has access to this device.\")\n",
        "else:\n",
        "    print(\"This user does not have access to this device.\")\n",
        "\n",
        "# Assign `organization_hours` to a Boolean value that represents whether the user is trying to log in during organization hours\n",
        "organization_hours = True\n",
        "\n",
        "# If the entered `organization_hours` has a value of True, then display \"Login attempt made during organization hours.\"\n",
        "# Otherwise, display \"Login attempt made outside of organization hours.\"\n",
        "if organization_hours == True:\n",
        "    print(\"Login attempt made during organization hours.\")\n",
        "else:\n",
        "    print(\"Login attempt made outside of organization hours.\")"
      ],
      "metadata": {
        "colab": {
          "base_uri": "https://localhost:8080/"
        },
        "id": "TGjT69tTY8Y1",
        "outputId": "89556f3e-8656-44cb-9150-fcf5b1636111"
      },
      "execution_count": null,
      "outputs": [
        {
          "output_type": "stream",
          "name": "stdout",
          "text": [
            "This user has access to this device.\n",
            "Login attempt made during organization hours.\n"
          ]
        }
      ]
    },
    {
      "cell_type": "code",
      "source": [
        "# Assign `organization_hours` to a Boolean value that represents whether the user is trying to log in during organization hours\n",
        "organization_hours = True\n",
        "\n",
        "# If the entered `organization_hours` has a value of True, then display \"Login attempt made during organization hours.\"\n",
        "# Otherwise, display \"Login attempt made outside of organization hours.\"\n",
        "if (organization_hours == True):\n",
        "   print(\"Login attempt made during organization hours.\")\n",
        "else:\n",
        "   print(\"Login attempt made outside of organization hours.\")"
      ],
      "metadata": {
        "colab": {
          "base_uri": "https://localhost:8080/"
        },
        "id": "4Kxed6PBYwqN",
        "outputId": "c1ac4fea-8eb4-4c8b-9d7d-976bc1d57701"
      },
      "execution_count": null,
      "outputs": [
        {
          "output_type": "stream",
          "name": "stdout",
          "text": [
            "Login attempt made during organization hours.\n"
          ]
        }
      ]
    },
    {
      "cell_type": "code",
      "source": [
        "# Assign `approved_list` to a list of approved usernames\n",
        "approved_list = [\"elarson\", \"bmoreno\", \"tshah\", \"sgilmore\", \"eraab\"]\n",
        "\n",
        "# Assign `username` to the username of a specific user trying to log in\n",
        "username = \"bmoreno\"\n",
        "\n",
        "# If the user trying to log in is among the approved users, then display a message that they are approved to access this device\n",
        "# Otherwise, display a message that they do not have access to this device\n",
        "if username in approved_list:\n",
        "    print(\"Access approved!\")\n",
        "else:\n",
        "    print(\"Access denied!\")"
      ],
      "metadata": {
        "colab": {
          "base_uri": "https://localhost:8080/"
        },
        "id": "yTrW0ghqV1aH",
        "outputId": "1e750f99-75df-48b3-bafa-622bc7fbbbe0"
      },
      "execution_count": null,
      "outputs": [
        {
          "output_type": "stream",
          "name": "stdout",
          "text": [
            "Access approved!\n"
          ]
        }
      ]
    },
    {
      "cell_type": "code",
      "source": [
        "# Assign `approved_user1` and `approved_user2` to usernames of approved users\n",
        "approved_user1 = \"elarson\"\n",
        "approved_user2 = \"bmoreno\"\n",
        "\n",
        "# Assign `username` to the username of a specific user trying to log in\n",
        "username = \"bmoreno\"\n",
        "\n",
        "# If the user trying to log in is among the approved users, then display a message that they are approved to access this device\n",
        "# Otherwise, display a message that they do not have access to this device\n",
        "if (username == approved_user1 or username == approved_user2):\n",
        "    print(\"This user has access to this device.\")\n",
        "else:\n",
        "    print(\"This user does not have access to this device.\")"
      ],
      "metadata": {
        "colab": {
          "base_uri": "https://localhost:8080/"
        },
        "id": "NjyJ9olSVty5",
        "outputId": "51ccc0ab-e26e-4823-868e-09127be723aa"
      },
      "execution_count": null,
      "outputs": [
        {
          "output_type": "stream",
          "name": "stdout",
          "text": [
            "This user has access to this device.\n"
          ]
        }
      ]
    },
    {
      "cell_type": "code",
      "source": [
        "# Assign `system` to a specific operating system\n",
        "# This variable represents which operating system is running\n",
        "system = \"OS 1\"\n",
        "\n",
        "# If OS 2 is running, then display a \"no update needed\" message\n",
        "# Otherwise if either OS 1 or OS 3 is running, display a \"update needed\" message\n",
        "if system == \"OS 2\":\n",
        "    print(\"no update needed\")\n",
        "elif (system == \"OS 1\" or system == \"OS 3\"):\n",
        "    print(\"update needed\")\n"
      ],
      "metadata": {
        "colab": {
          "base_uri": "https://localhost:8080/"
        },
        "id": "QHyjZBajVJEH",
        "outputId": "f5dd05f0-9f83-487b-c5c5-37e739aa1deb"
      },
      "execution_count": null,
      "outputs": [
        {
          "output_type": "stream",
          "name": "stdout",
          "text": [
            "update needed\n"
          ]
        }
      ]
    },
    {
      "cell_type": "code",
      "source": [
        "# Assign `system` to a specific operating system\n",
        "# This variable represents which operating system is running\n",
        "system = \"OS 3\"\n",
        "\n",
        "# If OS 2 is running, then display a \"no update needed\" message\n",
        "# Otherwise if OS 1 is running, display a \"update needed\" message\n",
        "# Otherwise if OS 3 is running, display a \"update needed\" message\n",
        "if system == \"OS 2\":\n",
        "    print(\"no update needed\")\n",
        "elif system == \"OS 1\":\n",
        "    print(\"update needed\")\n",
        "elif (system == \"OS 3\"):\n",
        "    print(\"update needed\")\n"
      ],
      "metadata": {
        "colab": {
          "base_uri": "https://localhost:8080/"
        },
        "id": "BJpZUsh5U0FX",
        "outputId": "87e2592b-7d55-40fb-adef-9dbe13fb88fa"
      },
      "execution_count": null,
      "outputs": [
        {
          "output_type": "stream",
          "name": "stdout",
          "text": [
            "update needed\n"
          ]
        }
      ]
    },
    {
      "cell_type": "code",
      "source": [
        "# Assign `system` to a specific operating system\n",
        "# This variable represents which operating system is running\n",
        "system = \"OS 1\"\n",
        "\n",
        "# If OS 2 is running, then display a \"no update needed\" message\n",
        "# Otherwise, display a \"update needed\" message\n",
        "if system == \"OS 2\":\n",
        "    print(\"no update needed\")\n",
        "else:\n",
        "    print(\"update needed\")"
      ],
      "metadata": {
        "colab": {
          "base_uri": "https://localhost:8080/"
        },
        "id": "YAUvx4aQT3Is",
        "outputId": "92098bd4-8af7-48a6-e6b9-41cd9d26187b"
      },
      "execution_count": null,
      "outputs": [
        {
          "output_type": "stream",
          "name": "stdout",
          "text": [
            "update needed\n"
          ]
        }
      ]
    },
    {
      "cell_type": "code",
      "source": [
        "# Assign a variable named `system` to a specific operating system, represented as a string\n",
        "# This variable indicates which operating system is running\n",
        "# Feel free to run this cell multiple times; each time try assigning `system` to different values (\"OS 1\", \"OS 2\", \"OS 3\") and observe the result\n",
        "system = \"OS 2\"\n",
        "\n",
        "# If OS 2 is running, then display a \"no update needed\" message\n",
        "if (system == \"OS 2\"):\n",
        "    print(\"no update needed\")\n"
      ],
      "metadata": {
        "colab": {
          "base_uri": "https://localhost:8080/"
        },
        "id": "7I0OHWZMQ3DZ",
        "outputId": "10af3280-093b-4b0c-9abc-87976cba887e"
      },
      "execution_count": null,
      "outputs": [
        {
          "output_type": "stream",
          "name": "stdout",
          "text": [
            "no update needed\n"
          ]
        }
      ]
    },
    {
      "cell_type": "code",
      "source": [
        "# Assign `login_status` to the Boolean value False\n",
        "login_status = False\n",
        "\n",
        "# Assign `login_status_type` to the data type of `login_status`\n",
        "login_status_type = type(login_status)\n",
        "\n",
        "# Display `login_status_type`\n",
        "print(login_status_type)"
      ],
      "metadata": {
        "colab": {
          "base_uri": "https://localhost:8080/"
        },
        "id": "1l_adooVOJFJ",
        "outputId": "1294d192-0059-4156-dab2-61b1e5875c8f"
      },
      "execution_count": null,
      "outputs": [
        {
          "output_type": "stream",
          "name": "stdout",
          "text": [
            "<class 'bool'>\n"
          ]
        }
      ]
    },
    {
      "cell_type": "code",
      "source": [
        "# Assign `max_logins` to the value 3\n",
        "max_logins = 3\n",
        "\n",
        "# Assign `login_attempts` to a specific value\n",
        "login_attempts = 3\n",
        "\n",
        "# Determine whether the current number of login attempts a user has made is less than or equal to the maximum number of login attempts allowed,\n",
        "# and display the resulting Boolean value\n",
        "print(login_attempts <= max_logins)"
      ],
      "metadata": {
        "colab": {
          "base_uri": "https://localhost:8080/"
        },
        "id": "BgEsYTaRNYUu",
        "outputId": "9c5c2ce1-9d97-4aa3-cf4e-10e9dee5b099"
      },
      "execution_count": null,
      "outputs": [
        {
          "output_type": "stream",
          "name": "stdout",
          "text": [
            "True\n"
          ]
        }
      ]
    },
    {
      "cell_type": "code",
      "source": [
        "# Assign `max_logins` to the value 3\n",
        "max_logins = 3\n",
        "\n",
        "# Assign `login_attempts` to the value 2\n",
        "login_attempts = 2\n",
        "\n",
        "# Determine whether the current number of login attempts a user has made is less than or equal to the maximum number of login attempts allowed,\n",
        "# and display the resulting Boolean value\n",
        "print(login_attempts <= max_logins)"
      ],
      "metadata": {
        "colab": {
          "base_uri": "https://localhost:8080/"
        },
        "id": "GEprvyIBJuoV",
        "outputId": "e31d6fce-6e9e-40d5-e3c7-9bf0d5bf1223"
      },
      "execution_count": null,
      "outputs": [
        {
          "output_type": "stream",
          "name": "stdout",
          "text": [
            "False\n"
          ]
        }
      ]
    },
    {
      "cell_type": "code",
      "source": [
        "# Assign `login_attempts` to the value 2\n",
        "login_attempts = 2\n",
        "\n",
        "# Assign `login_attempts_type` to the data type of `login_attempts`\n",
        "login_attempts_type = type(login_attempts)\n",
        "\n",
        "# Display `login_attempts_type`\n",
        "print(login_attempts_type)\n"
      ],
      "metadata": {
        "colab": {
          "base_uri": "https://localhost:8080/"
        },
        "id": "rvpH7QFqJR12",
        "outputId": "913f0e62-f306-4c87-e450-4a1e6f402df9"
      },
      "execution_count": null,
      "outputs": [
        {
          "output_type": "stream",
          "name": "stdout",
          "text": [
            "<class 'int'>\n"
          ]
        }
      ]
    },
    {
      "cell_type": "code",
      "source": [
        "# Assign `max_logins` to the value 3\n",
        "max_logins = 3\n",
        "\n",
        "# Assign `max_logins_type` to the data type of `max_logins`\n",
        "max_logins_type = type(max_logins)\n",
        "\n",
        "# Display `max_logins_type`\n",
        "print(max_logins_type)"
      ],
      "metadata": {
        "colab": {
          "base_uri": "https://localhost:8080/"
        },
        "id": "mh2lKqF9JKiY",
        "outputId": "1088151a-3d15-4e61-e884-260f9d602363"
      },
      "execution_count": null,
      "outputs": [
        {
          "output_type": "stream",
          "name": "stdout",
          "text": [
            "<class 'int'>\n"
          ]
        }
      ]
    },
    {
      "cell_type": "code",
      "source": [
        "# Assign `username_list` to the list of usernames who are allowed to access the device\n",
        "username_list = [\"madebowa\", \"jnguyen\", \"tbecker\", \"nhersh\", \"redwards\"]\n",
        "\n",
        "# Display `username_list`\n",
        "print(username_list)\n",
        "\n",
        "# Assign `username_list` to the updated list of usernames who are allowed to access the device\n",
        "username_list = [\"madebowa\", \"jnguyen\", \"tbecker\", \"nhersh\", \"redwards\", \"lpope\"]\n",
        "\n",
        "# Display `username_list`\n",
        "print(username_list)"
      ],
      "metadata": {
        "colab": {
          "base_uri": "https://localhost:8080/"
        },
        "id": "-1DIPPhsIgJK",
        "outputId": "db95b6a6-6a6c-4c92-b9e9-a4b2687951c4"
      },
      "execution_count": null,
      "outputs": [
        {
          "output_type": "stream",
          "name": "stdout",
          "text": [
            "['madebowa', 'jnguyen', 'tbecker', 'nhersh', 'redwards']\n",
            "['madebowa', 'jnguyen', 'tbecker', 'nhersh', 'redwards', 'lpope']\n"
          ]
        }
      ]
    },
    {
      "cell_type": "code",
      "source": [
        "# Assign `username_list` to the list of usernames who are allowed to access the device\n",
        "username_list = [\"madebowa\", \"jnguyen\", \"tbecker\", \"nhersh\", \"redwards\"]\n",
        "\n",
        "# Assign `username_list_type` to the data type of `username_list`\n",
        "username_list_type = type(username_list)\n",
        "\n",
        "# Display `username_list_type`\n",
        "print(username_list_type)"
      ],
      "metadata": {
        "colab": {
          "base_uri": "https://localhost:8080/"
        },
        "id": "ngLBIhq7H-nC",
        "outputId": "020cd8c8-1552-42b4-f864-2d0f835a86a4"
      },
      "execution_count": null,
      "outputs": [
        {
          "output_type": "stream",
          "name": "stdout",
          "text": [
            "<class 'list'>\n"
          ]
        }
      ]
    },
    {
      "cell_type": "code",
      "source": [
        "# Assign `username_list` to the list of usernames who are allowed to access the device\n",
        "username_list = [\"madebowa\", \"jnguyen\", \"tbecker\", \"nhersh\", \"redwards\"]\n",
        "\n",
        "# Display `username_list`\n",
        "print(username_list)"
      ],
      "metadata": {
        "colab": {
          "base_uri": "https://localhost:8080/"
        },
        "id": "MHDSrUXAHqJQ",
        "outputId": "be2903bb-0a47-4173-b989-c6f4b850c1dc"
      },
      "execution_count": null,
      "outputs": [
        {
          "output_type": "stream",
          "name": "stdout",
          "text": [
            "['madebowa', 'jnguyen', 'tbecker', 'nhersh', 'redwards']\n"
          ]
        }
      ]
    },
    {
      "cell_type": "code",
      "source": [
        "# Assign the `device_id` variable to the device ID that only specified users can access\n",
        "device_id = \"72e08x0\"\n",
        "\n",
        "# Assign `device_id_type` to the data type of `device_id`\n",
        "device_id_type = type(device_id)\n",
        "\n",
        "# Display `device_id_type`\n",
        "print(device_id_type)"
      ],
      "metadata": {
        "colab": {
          "base_uri": "https://localhost:8080/"
        },
        "id": "pS2xrOujHMd4",
        "outputId": "06bb1317-65f6-40ab-ea4f-ca3f15e7e07d"
      },
      "execution_count": null,
      "outputs": [
        {
          "output_type": "stream",
          "name": "stdout",
          "text": [
            "<class 'str'>\n"
          ]
        }
      ]
    },
    {
      "cell_type": "code",
      "source": [
        "# Storing a previous variable\n",
        "\n",
        "username = \"nzhao\"\n",
        "old_username = username\n",
        "username = \"zhao2\"\n",
        "print(\"Previous username:\", old_username)\n",
        "print(\"Current username:\", username)"
      ],
      "metadata": {
        "colab": {
          "base_uri": "https://localhost:8080/"
        },
        "id": "sgFveTrKEjmf",
        "outputId": "1d6a5da0-6b77-481e-d45c-16e839e5f506"
      },
      "execution_count": null,
      "outputs": [
        {
          "output_type": "stream",
          "name": "stdout",
          "text": [
            "Previous username: nzhao\n",
            "Current username: zhao2\n"
          ]
        }
      ]
    },
    {
      "cell_type": "code",
      "source": [
        "# Assign the `device_id` variable to the device ID that only specified users can access\n",
        "device_id = \"72e08x0\"\n",
        "\n",
        "# Display `device_id`\n",
        "print(device_id)"
      ],
      "metadata": {
        "colab": {
          "base_uri": "https://localhost:8080/"
        },
        "id": "ZsCFRj85FH1N",
        "outputId": "3bbe58ee-a365-471c-9fe6-78e2264afa1d"
      },
      "execution_count": null,
      "outputs": [
        {
          "output_type": "stream",
          "name": "stdout",
          "text": [
            "72e08x0\n"
          ]
        }
      ]
    },
    {
      "cell_type": "code",
      "source": [
        "# Reassing a variable\n",
        "\n",
        "device_id = \"h32rb17\"\n",
        "print(device_id)\n",
        "device_id = \"n73ab07\"\n",
        "print(device_id)"
      ],
      "metadata": {
        "colab": {
          "base_uri": "https://localhost:8080/"
        },
        "id": "cS6rdLDWDs-J",
        "outputId": "a4abf26c-f09d-4c8a-a0ac-bea065915ca9"
      },
      "execution_count": null,
      "outputs": [
        {
          "output_type": "stream",
          "name": "stdout",
          "text": [
            "h32rb17\n",
            "n73ab07\n"
          ]
        }
      ]
    },
    {
      "cell_type": "code",
      "source": [
        "# This cell displays all the statements written so far\n",
        "\n",
        "print(\"Hello World in Python\")\n",
        "print(\"I am using Python. Yay.\")\n",
        "print(\"I am a security analyst. Wow.\")\n",
        "print(\"Python is useful for security. Such language.\")"
      ],
      "metadata": {
        "colab": {
          "base_uri": "https://localhost:8080/"
        },
        "id": "_QSkptu3DDgr",
        "outputId": "54c7202a-6b1e-4784-9b24-b6fd061b7e59"
      },
      "execution_count": null,
      "outputs": [
        {
          "output_type": "stream",
          "name": "stdout",
          "text": [
            "Hello World in Python\n",
            "I am using Python. Yay.\n",
            "I am a security analyst. Wow.\n",
            "Python is useful for security. Such language.\n"
          ]
        }
      ]
    },
    {
      "cell_type": "code",
      "source": [
        "# This cell displays \"Python is useful for security\"\n",
        "print(\"Python is useful for security. Such language.\")"
      ],
      "metadata": {
        "colab": {
          "base_uri": "https://localhost:8080/"
        },
        "id": "NL7n94GlCwyM",
        "outputId": "e164d1fa-999e-41b4-a60a-9ff81eafaf0d"
      },
      "execution_count": null,
      "outputs": [
        {
          "output_type": "stream",
          "name": "stdout",
          "text": [
            "Python is useful for security. Such language.\n"
          ]
        }
      ]
    },
    {
      "cell_type": "code",
      "source": [
        "# This code displays \"I am a security analyst.\"\n",
        "print(\"I am a security analyst. Wow.\")"
      ],
      "metadata": {
        "colab": {
          "base_uri": "https://localhost:8080/"
        },
        "id": "4Ol2B8kfCSAZ",
        "outputId": "fcb8b7d5-e3ac-49d4-d05b-7830bfe25fd6"
      },
      "execution_count": null,
      "outputs": [
        {
          "output_type": "stream",
          "name": "stdout",
          "text": [
            "I am a security analyst. Wow.\n"
          ]
        }
      ]
    },
    {
      "cell_type": "code",
      "source": [
        "# This code is a print statement\n",
        "print(\"I am using Python. Yay.\")"
      ],
      "metadata": {
        "colab": {
          "base_uri": "https://localhost:8080/"
        },
        "id": "TyQHg75IB9js",
        "outputId": "b1368a0e-698c-443e-d35a-dd8a21332a10"
      },
      "execution_count": null,
      "outputs": [
        {
          "output_type": "stream",
          "name": "stdout",
          "text": [
            "I am using Python. Yay.\n"
          ]
        }
      ]
    },
    {
      "cell_type": "code",
      "source": [
        "# In Python, comments do not get displayed\n",
        "# This code cell contains only comments"
      ],
      "metadata": {
        "id": "o0iqWRbFB6DF"
      },
      "execution_count": null,
      "outputs": []
    },
    {
      "cell_type": "code",
      "execution_count": null,
      "metadata": {
        "colab": {
          "base_uri": "https://localhost:8080/"
        },
        "id": "tCpJh73PASrG",
        "outputId": "4d45778e-5744-4257-c349-1b12b61fbde0"
      },
      "outputs": [
        {
          "output_type": "stream",
          "name": "stdout",
          "text": [
            "Hello World in Python!\n"
          ]
        }
      ],
      "source": [
        "# This cell displays \"Hello World in Python!\"\n",
        "print(\"Hello World in Python!\")\n"
      ]
    }
  ]
}