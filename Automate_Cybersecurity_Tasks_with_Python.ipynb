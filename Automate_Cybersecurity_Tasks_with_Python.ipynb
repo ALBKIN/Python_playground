{
  "nbformat": 4,
  "nbformat_minor": 0,
  "metadata": {
    "colab": {
      "provenance": [],
      "toc_visible": true,
      "authorship_tag": "ABX9TyPo23X346oS2xt22CGngadL",
      "include_colab_link": true
    },
    "kernelspec": {
      "name": "python3",
      "display_name": "Python 3"
    },
    "language_info": {
      "name": "python"
    }
  },
  "cells": [
    {
      "cell_type": "markdown",
      "metadata": {
        "id": "view-in-github",
        "colab_type": "text"
      },
      "source": [
        "<a href=\"https://colab.research.google.com/github/ALBKIN/Python_playground/blob/main/Automate_Cybersecurity_Tasks_with_Python.ipynb\" target=\"_parent\"><img src=\"https://colab.research.google.com/assets/colab-badge.svg\" alt=\"Open In Colab\"/></a>"
      ]
    },
    {
      "cell_type": "markdown",
      "source": [
        "# Activity_Define and call a function"
      ],
      "metadata": {
        "id": "pvU_66k1uwFa"
      }
    },
    {
      "cell_type": "code",
      "source": [
        "# Define a function named `list_to_string()`\n",
        "def list_to_string():\n",
        "\n",
        "  # Store the list of approved usernames in a variable named `username_list`\n",
        "  username_list = [\"elarson\", \"bmoreno\", \"tshah\", \"sgilmore\", \"eraab\", \"gesparza\", \"alevitsk\", \"wjaffrey\"]\n",
        "\n",
        "  # Assign `sum_variable` to an empty string\n",
        "  sum_variable = \"\"\n",
        "\n",
        "  # Write a for loop that iterates through the elements of `username_list` and displays each element\n",
        "  for i in username_list:\n",
        "    sum_variable = sum_variable + i + \", \"\n",
        "\n",
        "  # Display the value of `sum_variable`\n",
        "  print(sum_variable)\n",
        "\n",
        "# Call the `list_to_string()` function\n",
        "list_to_string()"
      ],
      "metadata": {
        "colab": {
          "base_uri": "https://localhost:8080/"
        },
        "id": "EDbEFxCUxfd-",
        "outputId": "11dcfd87-21c9-4704-bbb1-b56f3b9910cf"
      },
      "execution_count": 16,
      "outputs": [
        {
          "output_type": "stream",
          "name": "stdout",
          "text": [
            "elarson, bmoreno, tshah, sgilmore, eraab, gesparza, alevitsk, wjaffrey, \n"
          ]
        }
      ]
    },
    {
      "cell_type": "code",
      "source": [
        "# Define a function named `list_to_string()`\n",
        "def list_to_string():\n",
        "\n",
        "  # Store the list of approved usernames in a variable named `username_list`\n",
        "  username_list = [\"elarson\", \"bmoreno\", \"tshah\", \"sgilmore\", \"eraab\", \"gesparza\", \"alevitsk\", \"wjaffrey\"]\n",
        "\n",
        "  # Assign `sum_variable` to an empty string\n",
        "  sum_variable = \"\"\n",
        "\n",
        "  # Write a for loop that iterates through the elements of `username_list` and displays each element\n",
        "  for i in username_list:\n",
        "    sum_variable = sum_variable + i\n",
        "\n",
        "  # Display the value of `sum_variable`\n",
        "  print(sum_variable)\n",
        "\n",
        "# Call the `list_to_string()` function\n",
        "list_to_string()"
      ],
      "metadata": {
        "colab": {
          "base_uri": "https://localhost:8080/"
        },
        "id": "nMIwNQH-w-rT",
        "outputId": "ee3d2c02-bbd5-4404-fc9a-227ef5b2285f"
      },
      "execution_count": 15,
      "outputs": [
        {
          "output_type": "stream",
          "name": "stdout",
          "text": [
            "elarsonbmorenotshahsgilmoreeraabgesparzaalevitskwjaffrey\n"
          ]
        }
      ]
    },
    {
      "cell_type": "code",
      "source": [
        "# Define a function named `list_to_string()`\n",
        "def list_to_string():\n",
        "\n",
        "    # Store the list of approved usernames in a variable named `username_list`\n",
        "    username_list = [\"elarson\", \"bmoreno\", \"tshah\", \"sgilmore\", \"eraab\", \"gesparza\", \"alevitsk\", \"wjaffrey\"]\n",
        "\n",
        "    # Write a for loop that iterates through the elements of `username_list` and displays each element\n",
        "    for i in username_list:\n",
        "      print(i)\n",
        "\n",
        "# Call the `list_to_string()` function\n",
        "list_to_string()"
      ],
      "metadata": {
        "colab": {
          "base_uri": "https://localhost:8080/"
        },
        "id": "YovTvLCVwC3l",
        "outputId": "29f070c4-3695-428b-eac9-88962c026c85"
      },
      "execution_count": 14,
      "outputs": [
        {
          "output_type": "stream",
          "name": "stdout",
          "text": [
            "elarson\n",
            "bmoreno\n",
            "tshah\n",
            "sgilmore\n",
            "eraab\n",
            "gesparza\n",
            "alevitsk\n",
            "wjaffrey\n"
          ]
        }
      ]
    },
    {
      "cell_type": "code",
      "source": [
        "# Define a function named `alert()`\n",
        "def alert():\n",
        "    for i in range(3):\n",
        "      print(\"Potential security issue. Investigate further.\")\n",
        "\n",
        "# Call the `alert()` function\n",
        "alert()"
      ],
      "metadata": {
        "colab": {
          "base_uri": "https://localhost:8080/"
        },
        "id": "GdvlSa5LvcZ1",
        "outputId": "8e44a99e-685b-4c6f-ca09-bb757912b5d6"
      },
      "execution_count": 13,
      "outputs": [
        {
          "output_type": "stream",
          "name": "stdout",
          "text": [
            "Potential security issue. Investigate further.\n",
            "Potential security issue. Investigate further.\n",
            "Potential security issue. Investigate further.\n"
          ]
        }
      ]
    },
    {
      "cell_type": "code",
      "source": [
        "# Define a function named `alert()`\n",
        "def alert():\n",
        "    print(\"Potential security issue. Investigate further.\")\n",
        "\n",
        "# Call the `alert()` function\n",
        "alert()"
      ],
      "metadata": {
        "colab": {
          "base_uri": "https://localhost:8080/"
        },
        "id": "omAZcoDOvUkD",
        "outputId": "58486570-5b13-4fe5-bff4-2115b219116b"
      },
      "execution_count": 10,
      "outputs": [
        {
          "output_type": "stream",
          "name": "stdout",
          "text": [
            "Potential security issue. Investigate further.\n"
          ]
        }
      ]
    },
    {
      "cell_type": "code",
      "source": [
        "# Define a function named `alert()`\n",
        "\n",
        "def alert():\n",
        "    print(\"Potential security issue. Investigate further.\")"
      ],
      "metadata": {
        "id": "aNtQQqhisNH3"
      },
      "execution_count": 11,
      "outputs": []
    },
    {
      "cell_type": "code",
      "source": [
        "def display_investigation_message():\n",
        "    print(\"investigate activity\")\n",
        "\n",
        "application_status = \"potential concern\"\n",
        "email_status = \"okay\"\n",
        "\n",
        "if application_status == \"potential concern\":\n",
        "    print(\"application_log:\")\n",
        "    display_investigation_message()\n",
        "if email_status == \"potential concern\":\n",
        "    print(\"email log:\")\n",
        "    display_investigation_message()"
      ],
      "metadata": {
        "colab": {
          "base_uri": "https://localhost:8080/"
        },
        "id": "51mGl8VxnI6A",
        "outputId": "81657b16-b344-4bf2-ce88-b8ab2bb1d37d"
      },
      "execution_count": 12,
      "outputs": [
        {
          "output_type": "stream",
          "name": "stdout",
          "text": [
            "application_log:\n",
            "investigate activity\n"
          ]
        }
      ]
    },
    {
      "cell_type": "markdown",
      "source": [
        "# Loops & Variables"
      ],
      "metadata": {
        "id": "KfJhrikOu8Ha"
      }
    },
    {
      "cell_type": "code",
      "source": [
        "# Assign the loop variable `i` to an initial value of 5000\n",
        "i = 5000\n",
        "\n",
        "# While loop that generates unique employee IDs for the Sales department by iterating through numbers\n",
        "# and displays each ID created\n",
        "# This loop displays \"Only 10 valid employee ids remaining\" once `i` reaches 5100\n",
        "while i <= 5150:\n",
        "    print(i)\n",
        "    if (i == 5100):\n",
        "        print(\"Only 10 valid employee ids remaining\")\n",
        "    i = i + 5"
      ],
      "metadata": {
        "colab": {
          "base_uri": "https://localhost:8080/"
        },
        "id": "4wrd6VW6nmjI",
        "outputId": "4ff5adfc-f13a-4c7e-f40f-421173edfa3f"
      },
      "execution_count": 8,
      "outputs": [
        {
          "output_type": "stream",
          "name": "stdout",
          "text": [
            "5000\n",
            "5005\n",
            "5010\n",
            "5015\n",
            "5020\n",
            "5025\n",
            "5030\n",
            "5035\n",
            "5040\n",
            "5045\n",
            "5050\n",
            "5055\n",
            "5060\n",
            "5065\n",
            "5070\n",
            "5075\n",
            "5080\n",
            "5085\n",
            "5090\n",
            "5095\n",
            "5100\n",
            "Only 10 valid employee ids remaining\n",
            "5105\n",
            "5110\n",
            "5115\n",
            "5120\n",
            "5125\n",
            "5130\n",
            "5135\n",
            "5140\n",
            "5145\n",
            "5150\n"
          ]
        }
      ]
    },
    {
      "cell_type": "code",
      "source": [
        "# Assign the loop variable `i` to an initial value of 5000\n",
        "i = 5000\n",
        "\n",
        "# While loop that generates unique employee IDs for the Sales department by iterating through numbers\n",
        "# and displays each ID created\n",
        "\n",
        "while i < 5151 and i % 5 == 0:\n",
        "    print(i)\n",
        "    i = i + 5"
      ],
      "metadata": {
        "colab": {
          "base_uri": "https://localhost:8080/"
        },
        "id": "6A0VzwtLnEM3",
        "outputId": "9b280849-5d31-471c-f21e-7dd6901b1bb9"
      },
      "execution_count": 7,
      "outputs": [
        {
          "output_type": "stream",
          "name": "stdout",
          "text": [
            "5000\n",
            "5005\n",
            "5010\n",
            "5015\n",
            "5020\n",
            "5025\n",
            "5030\n",
            "5035\n",
            "5040\n",
            "5045\n",
            "5050\n",
            "5055\n",
            "5060\n",
            "5065\n",
            "5070\n",
            "5075\n",
            "5080\n",
            "5085\n",
            "5090\n",
            "5095\n",
            "5100\n",
            "5105\n",
            "5110\n",
            "5115\n",
            "5120\n",
            "5125\n",
            "5130\n",
            "5135\n",
            "5140\n",
            "5145\n",
            "5150\n"
          ]
        }
      ]
    },
    {
      "cell_type": "code",
      "source": [
        "# Assign `allow_list` to a list of IP addresses that are allowed to log in\n",
        "allow_list = [\"192.168.243.140\", \"192.168.205.12\", \"192.168.151.162\", \"192.168.178.71\",\n",
        "              \"192.168.86.232\", \"192.168.3.24\", \"192.168.170.243\", \"192.168.119.173\"]\n",
        "\n",
        "# Assign `ip_addresses` to a list of IP addresses from which users have tried to log in\n",
        "ip_addresses = [\"192.168.142.245\", \"192.168.109.50\", \"192.168.86.232\", \"192.168.131.147\",\n",
        "                \"192.168.205.12\", \"192.168.200.48\"]\n",
        "\n",
        "# For each IP address in the list of IP addresses from which users have tried to log in,\n",
        "# If it is among the allowed addresses, then display “IP address is allowed”\n",
        "# Otherwise, display “IP address is not allowed”\n",
        "\n",
        "for i in ip_addresses:\n",
        "\tif i in allow_list:\n",
        "\t\tprint(\"IP address is allowed\")\n",
        "\telse:\n",
        "\t\tprint(\"IP addess is not allowed. Further investigation of login activity required\")\n",
        "\t\tbreak;"
      ],
      "metadata": {
        "colab": {
          "base_uri": "https://localhost:8080/"
        },
        "id": "xxjjVGUQmKSr",
        "outputId": "b80db543-04de-4720-9a3e-b246ea6057d9"
      },
      "execution_count": 6,
      "outputs": [
        {
          "output_type": "stream",
          "name": "stdout",
          "text": [
            "IP addess is not allowed. Further investigation of login activity required\n"
          ]
        }
      ]
    },
    {
      "cell_type": "code",
      "source": [
        "# Assign `allow_list` to a list of IP addresses that are allowed to log in\n",
        "allow_list = [\"192.168.243.140\", \"192.168.205.12\", \"192.168.151.162\", \"192.168.178.71\",\n",
        "              \"192.168.86.232\", \"192.168.3.24\", \"192.168.170.243\", \"192.168.119.173\"]\n",
        "\n",
        "# Assign `ip_addresses` to a list of IP addresses from which users have tried to log in\n",
        "ip_addresses = [\"192.168.142.245\", \"192.168.109.50\", \"192.168.86.232\", \"192.168.131.147\",\n",
        "                \"192.168.205.12\", \"192.168.200.48\"]\n",
        "\n",
        "# For each IP address in the list of IP addresses from which users have tried to log in,\n",
        "# If it is among the allowed addresses, then display “IP address is allowed”\n",
        "# Otherwise, display “IP address is not allowed”\n",
        "for i in ip_addresses:\n",
        "\tif i in allow_list:\n",
        "\t\tprint(\"IP address is allowed\")\n",
        "\telse:\n",
        "\t\tprint(\"IP address is not allowed\")"
      ],
      "metadata": {
        "colab": {
          "base_uri": "https://localhost:8080/"
        },
        "id": "r3r3heSslab4",
        "outputId": "0ae236de-3ad4-481c-d005-10021ff4adcb"
      },
      "execution_count": 5,
      "outputs": [
        {
          "output_type": "stream",
          "name": "stdout",
          "text": [
            "IP address is not allowed\n",
            "IP address is not allowed\n",
            "IP address is allowed\n",
            "IP address is not allowed\n",
            "IP address is allowed\n",
            "IP address is not allowed\n"
          ]
        }
      ]
    },
    {
      "cell_type": "code",
      "source": [
        "# Assign `ip_addresses` to a list of IP addresses from which users have tried to log in\n",
        "ip_addresses = [\"192.168.142.245\", \"192.168.109.50\", \"192.168.86.232\", \"192.168.131.147\",\n",
        "                \"192.168.205.12\", \"192.168.200.48\"]\n",
        "\n",
        "# For loop that displays the elements of `ip_addresses` one at a time\n",
        "for i in ip_addresses:\n",
        "    print(i)"
      ],
      "metadata": {
        "colab": {
          "base_uri": "https://localhost:8080/"
        },
        "id": "JxYJ4LRtk7xd",
        "outputId": "619b8d1f-4d1b-481e-bd9f-706fa5983751"
      },
      "execution_count": 4,
      "outputs": [
        {
          "output_type": "stream",
          "name": "stdout",
          "text": [
            "192.168.142.245\n",
            "192.168.109.50\n",
            "192.168.86.232\n",
            "192.168.131.147\n",
            "192.168.205.12\n",
            "192.168.200.48\n"
          ]
        }
      ]
    },
    {
      "cell_type": "code",
      "source": [
        "# Assign `connection_attempts` to an initial value of 0, to keep track of how many times the user has tried to connect to the network\n",
        "connection_attempts = 0\n",
        "\n",
        "# Iterative statement using `while` and `connection_attempts`\n",
        "# Display \"Connection could not be established.\" every iteration, until connection_attempts reaches a specified number\n",
        "while (connection_attempts < 4):\n",
        "    print(\"Connection could not be established\")\n",
        "\n",
        "    # Update `connection_attempts` (increment it by 1 at the end of each iteration)\n",
        "    connection_attempts = connection_attempts + 1\n"
      ],
      "metadata": {
        "colab": {
          "base_uri": "https://localhost:8080/"
        },
        "id": "kWA0QQtbkkzA",
        "outputId": "85e701ac-dadb-4878-a2d5-43768a326ee2"
      },
      "execution_count": 3,
      "outputs": [
        {
          "output_type": "stream",
          "name": "stdout",
          "text": [
            "Connection could not be established\n",
            "Connection could not be established\n",
            "Connection could not be established\n",
            "Connection could not be established\n"
          ]
        }
      ]
    },
    {
      "cell_type": "code",
      "source": [
        "# Create a variable called `connection_attempts` that stores the number of times the user has tried to connect to the network\n",
        "connection_attempts = 5\n",
        "\n",
        "# Iterative statement using `for`, `range()`, a loop variable of `i`, and `connection_attempts`\n",
        "# Display \"Connection could not be established.\" as many times as specified by `connection_attempts`\n",
        "for i in range(connection_attempts):\n",
        "    print(\"Connection could not be established\")"
      ],
      "metadata": {
        "colab": {
          "base_uri": "https://localhost:8080/"
        },
        "id": "qrbTrjKAkKFF",
        "outputId": "78b3ba9a-cdca-4a4b-91f2-33f30ab88a2a"
      },
      "execution_count": 2,
      "outputs": [
        {
          "output_type": "stream",
          "name": "stdout",
          "text": [
            "Connection could not be established\n",
            "Connection could not be established\n",
            "Connection could not be established\n",
            "Connection could not be established\n",
            "Connection could not be established\n"
          ]
        }
      ]
    },
    {
      "cell_type": "code",
      "source": [
        "# Iterative statement using `for`, `range()`, and a loop variable of `i`\n",
        "# Display \"Connection could not be established.\" three times\n",
        "for i in range(3):\n",
        "    print(\"Connection could not be established.\")"
      ],
      "metadata": {
        "colab": {
          "base_uri": "https://localhost:8080/"
        },
        "id": "VFHe2esXj0DQ",
        "outputId": "59fa6bef-5b31-48f5-dc16-a64e4f232013"
      },
      "execution_count": 1,
      "outputs": [
        {
          "output_type": "stream",
          "name": "stdout",
          "text": [
            "Connection could not be established.\n",
            "Connection could not be established.\n",
            "Connection could not be established.\n"
          ]
        }
      ]
    },
    {
      "cell_type": "code",
      "source": [
        "i = 1\n",
        "while i < 5:\n",
        "    print(i)\n",
        "    i = i + 1"
      ],
      "metadata": {
        "id": "8TkPpKWAfj1W",
        "outputId": "050f8758-27a7-478b-f36a-17c7b363b671",
        "colab": {
          "base_uri": "https://localhost:8080/"
        }
      },
      "execution_count": null,
      "outputs": [
        {
          "output_type": "stream",
          "name": "stdout",
          "text": [
            "1\n",
            "2\n",
            "3\n",
            "4\n"
          ]
        }
      ]
    },
    {
      "cell_type": "code",
      "source": [
        "for i in range(5):\n",
        "    print(i)"
      ],
      "metadata": {
        "colab": {
          "base_uri": "https://localhost:8080/"
        },
        "id": "LDXsPbG0fdUn",
        "outputId": "475eaec4-36b2-4ac8-d337-63e1d92e1f27"
      },
      "execution_count": null,
      "outputs": [
        {
          "output_type": "stream",
          "name": "stdout",
          "text": [
            "0\n",
            "1\n",
            "2\n",
            "3\n",
            "4\n"
          ]
        }
      ]
    },
    {
      "cell_type": "code",
      "source": [
        "string = \"security\"\n",
        "for character in string:\n",
        "    print(character)"
      ],
      "metadata": {
        "colab": {
          "base_uri": "https://localhost:8080/"
        },
        "id": "siRhtoyJe_GQ",
        "outputId": "c1f7e4e4-04ef-4617-e537-73f75f9a14d4"
      },
      "execution_count": null,
      "outputs": [
        {
          "output_type": "stream",
          "name": "stdout",
          "text": [
            "s\n",
            "e\n",
            "c\n",
            "u\n",
            "r\n",
            "i\n",
            "t\n",
            "y\n"
          ]
        }
      ]
    },
    {
      "cell_type": "code",
      "source": [
        "computer_assets = [\"laptop1\", \"desktop20\", \"smartphone03\"]\n",
        "for asset in computer_assets:\n",
        "    print(asset)"
      ],
      "metadata": {
        "colab": {
          "base_uri": "https://localhost:8080/"
        },
        "id": "7CrM4qrle7Lo",
        "outputId": "1bda1dac-55d9-48e7-fbd8-f118766aca07"
      },
      "execution_count": null,
      "outputs": [
        {
          "output_type": "stream",
          "name": "stdout",
          "text": [
            "laptop1\n",
            "desktop20\n",
            "smartphone03\n"
          ]
        }
      ]
    },
    {
      "cell_type": "code",
      "source": [
        "for i in [\"elarson\", \"bmoreno\", \"tshah\", \"sgilmore\"]:\n",
        "    print(i)"
      ],
      "metadata": {
        "colab": {
          "base_uri": "https://localhost:8080/"
        },
        "id": "CZslcGl8ZDnP",
        "outputId": "acf9a326-db4a-4739-b4be-79324321503b"
      },
      "execution_count": null,
      "outputs": [
        {
          "output_type": "stream",
          "name": "stdout",
          "text": [
            "elarson\n",
            "bmoreno\n",
            "tshah\n",
            "sgilmore\n"
          ]
        }
      ]
    },
    {
      "cell_type": "code",
      "source": [
        "# Assign `approved_list` to a list of approved usernames\n",
        "approved_list = [\"elarson\", \"bmoreno\", \"tshah\", \"sgilmore\", \"eraab\"]\n",
        "\n",
        "# Assign `username` to the username of a specific user trying to log in\n",
        "username = \"bmoreno\"\n",
        "\n",
        "# Assign `organization_hours` to a Boolean value that represents whether the user is trying to log in during organization hours\n",
        "organization_hours = True\n",
        "\n",
        "# If the user is among the approved users and they are logging in during organization hours, then convey that the user is logged in\n",
        "# Otherwise, convey that either the username is not approved or the login attempt was made outside of organization hours\n",
        "if username in approved_list and organization_hours == True:\n",
        "    print(\"Login attempt made by an approved user during organization hours.\")\n",
        "else:\n",
        "    print(\"Username not approved or login attempt made outside of organization hours.\")"
      ],
      "metadata": {
        "colab": {
          "base_uri": "https://localhost:8080/"
        },
        "id": "sqApxmAUZNW7",
        "outputId": "b3a86116-cf2c-4123-fd28-ce04fabc9f44"
      },
      "execution_count": null,
      "outputs": [
        {
          "output_type": "stream",
          "name": "stdout",
          "text": [
            "Login attempt made by an approved user during organization hours.\n"
          ]
        }
      ]
    },
    {
      "cell_type": "code",
      "source": [
        "# Assign `approved_list` to a list of approved usernames\n",
        "approved_list = [\"elarson\", \"bmoreno\", \"tshah\", \"sgilmore\", \"eraab\"]\n",
        "\n",
        "# Assign `username` to the username of a specific user trying to log in\n",
        "username = \"bmoreno\"\n",
        "\n",
        "# If the user trying to log in is among the approved users, then display a message that they are approved to access this device\n",
        "# Otherwise, display a message that they do not have access to this device\n",
        "if username in approved_list:\n",
        "    print(\"This user has access to this device.\")\n",
        "else:\n",
        "    print(\"This user does not have access to this device.\")\n",
        "\n",
        "# Assign `organization_hours` to a Boolean value that represents whether the user is trying to log in during organization hours\n",
        "organization_hours = True\n",
        "\n",
        "# If the entered `organization_hours` has a value of True, then display \"Login attempt made during organization hours.\"\n",
        "# Otherwise, display \"Login attempt made outside of organization hours.\"\n",
        "if organization_hours == True:\n",
        "    print(\"Login attempt made during organization hours.\")\n",
        "else:\n",
        "    print(\"Login attempt made outside of organization hours.\")"
      ],
      "metadata": {
        "colab": {
          "base_uri": "https://localhost:8080/"
        },
        "id": "TGjT69tTY8Y1",
        "outputId": "89556f3e-8656-44cb-9150-fcf5b1636111"
      },
      "execution_count": null,
      "outputs": [
        {
          "output_type": "stream",
          "name": "stdout",
          "text": [
            "This user has access to this device.\n",
            "Login attempt made during organization hours.\n"
          ]
        }
      ]
    },
    {
      "cell_type": "code",
      "source": [
        "# Assign `organization_hours` to a Boolean value that represents whether the user is trying to log in during organization hours\n",
        "organization_hours = True\n",
        "\n",
        "# If the entered `organization_hours` has a value of True, then display \"Login attempt made during organization hours.\"\n",
        "# Otherwise, display \"Login attempt made outside of organization hours.\"\n",
        "if (organization_hours == True):\n",
        "   print(\"Login attempt made during organization hours.\")\n",
        "else:\n",
        "   print(\"Login attempt made outside of organization hours.\")"
      ],
      "metadata": {
        "colab": {
          "base_uri": "https://localhost:8080/"
        },
        "id": "4Kxed6PBYwqN",
        "outputId": "c1ac4fea-8eb4-4c8b-9d7d-976bc1d57701"
      },
      "execution_count": null,
      "outputs": [
        {
          "output_type": "stream",
          "name": "stdout",
          "text": [
            "Login attempt made during organization hours.\n"
          ]
        }
      ]
    },
    {
      "cell_type": "code",
      "source": [
        "# Assign `approved_list` to a list of approved usernames\n",
        "approved_list = [\"elarson\", \"bmoreno\", \"tshah\", \"sgilmore\", \"eraab\"]\n",
        "\n",
        "# Assign `username` to the username of a specific user trying to log in\n",
        "username = \"bmoreno\"\n",
        "\n",
        "# If the user trying to log in is among the approved users, then display a message that they are approved to access this device\n",
        "# Otherwise, display a message that they do not have access to this device\n",
        "if username in approved_list:\n",
        "    print(\"Access approved!\")\n",
        "else:\n",
        "    print(\"Access denied!\")"
      ],
      "metadata": {
        "colab": {
          "base_uri": "https://localhost:8080/"
        },
        "id": "yTrW0ghqV1aH",
        "outputId": "1e750f99-75df-48b3-bafa-622bc7fbbbe0"
      },
      "execution_count": null,
      "outputs": [
        {
          "output_type": "stream",
          "name": "stdout",
          "text": [
            "Access approved!\n"
          ]
        }
      ]
    },
    {
      "cell_type": "code",
      "source": [
        "# Assign `approved_user1` and `approved_user2` to usernames of approved users\n",
        "approved_user1 = \"elarson\"\n",
        "approved_user2 = \"bmoreno\"\n",
        "\n",
        "# Assign `username` to the username of a specific user trying to log in\n",
        "username = \"bmoreno\"\n",
        "\n",
        "# If the user trying to log in is among the approved users, then display a message that they are approved to access this device\n",
        "# Otherwise, display a message that they do not have access to this device\n",
        "if (username == approved_user1 or username == approved_user2):\n",
        "    print(\"This user has access to this device.\")\n",
        "else:\n",
        "    print(\"This user does not have access to this device.\")"
      ],
      "metadata": {
        "colab": {
          "base_uri": "https://localhost:8080/"
        },
        "id": "NjyJ9olSVty5",
        "outputId": "51ccc0ab-e26e-4823-868e-09127be723aa"
      },
      "execution_count": null,
      "outputs": [
        {
          "output_type": "stream",
          "name": "stdout",
          "text": [
            "This user has access to this device.\n"
          ]
        }
      ]
    },
    {
      "cell_type": "code",
      "source": [
        "# Assign `system` to a specific operating system\n",
        "# This variable represents which operating system is running\n",
        "system = \"OS 1\"\n",
        "\n",
        "# If OS 2 is running, then display a \"no update needed\" message\n",
        "# Otherwise if either OS 1 or OS 3 is running, display a \"update needed\" message\n",
        "if system == \"OS 2\":\n",
        "    print(\"no update needed\")\n",
        "elif (system == \"OS 1\" or system == \"OS 3\"):\n",
        "    print(\"update needed\")\n"
      ],
      "metadata": {
        "colab": {
          "base_uri": "https://localhost:8080/"
        },
        "id": "QHyjZBajVJEH",
        "outputId": "f5dd05f0-9f83-487b-c5c5-37e739aa1deb"
      },
      "execution_count": null,
      "outputs": [
        {
          "output_type": "stream",
          "name": "stdout",
          "text": [
            "update needed\n"
          ]
        }
      ]
    },
    {
      "cell_type": "code",
      "source": [
        "# Assign `system` to a specific operating system\n",
        "# This variable represents which operating system is running\n",
        "system = \"OS 3\"\n",
        "\n",
        "# If OS 2 is running, then display a \"no update needed\" message\n",
        "# Otherwise if OS 1 is running, display a \"update needed\" message\n",
        "# Otherwise if OS 3 is running, display a \"update needed\" message\n",
        "if system == \"OS 2\":\n",
        "    print(\"no update needed\")\n",
        "elif system == \"OS 1\":\n",
        "    print(\"update needed\")\n",
        "elif (system == \"OS 3\"):\n",
        "    print(\"update needed\")\n"
      ],
      "metadata": {
        "colab": {
          "base_uri": "https://localhost:8080/"
        },
        "id": "BJpZUsh5U0FX",
        "outputId": "87e2592b-7d55-40fb-adef-9dbe13fb88fa"
      },
      "execution_count": null,
      "outputs": [
        {
          "output_type": "stream",
          "name": "stdout",
          "text": [
            "update needed\n"
          ]
        }
      ]
    },
    {
      "cell_type": "code",
      "source": [
        "# Assign `system` to a specific operating system\n",
        "# This variable represents which operating system is running\n",
        "system = \"OS 1\"\n",
        "\n",
        "# If OS 2 is running, then display a \"no update needed\" message\n",
        "# Otherwise, display a \"update needed\" message\n",
        "if system == \"OS 2\":\n",
        "    print(\"no update needed\")\n",
        "else:\n",
        "    print(\"update needed\")"
      ],
      "metadata": {
        "colab": {
          "base_uri": "https://localhost:8080/"
        },
        "id": "YAUvx4aQT3Is",
        "outputId": "92098bd4-8af7-48a6-e6b9-41cd9d26187b"
      },
      "execution_count": null,
      "outputs": [
        {
          "output_type": "stream",
          "name": "stdout",
          "text": [
            "update needed\n"
          ]
        }
      ]
    },
    {
      "cell_type": "code",
      "source": [
        "# Assign a variable named `system` to a specific operating system, represented as a string\n",
        "# This variable indicates which operating system is running\n",
        "# Feel free to run this cell multiple times; each time try assigning `system` to different values (\"OS 1\", \"OS 2\", \"OS 3\") and observe the result\n",
        "system = \"OS 2\"\n",
        "\n",
        "# If OS 2 is running, then display a \"no update needed\" message\n",
        "if (system == \"OS 2\"):\n",
        "    print(\"no update needed\")\n"
      ],
      "metadata": {
        "colab": {
          "base_uri": "https://localhost:8080/"
        },
        "id": "7I0OHWZMQ3DZ",
        "outputId": "10af3280-093b-4b0c-9abc-87976cba887e"
      },
      "execution_count": null,
      "outputs": [
        {
          "output_type": "stream",
          "name": "stdout",
          "text": [
            "no update needed\n"
          ]
        }
      ]
    },
    {
      "cell_type": "code",
      "source": [
        "# Assign `login_status` to the Boolean value False\n",
        "login_status = False\n",
        "\n",
        "# Assign `login_status_type` to the data type of `login_status`\n",
        "login_status_type = type(login_status)\n",
        "\n",
        "# Display `login_status_type`\n",
        "print(login_status_type)"
      ],
      "metadata": {
        "colab": {
          "base_uri": "https://localhost:8080/"
        },
        "id": "1l_adooVOJFJ",
        "outputId": "1294d192-0059-4156-dab2-61b1e5875c8f"
      },
      "execution_count": null,
      "outputs": [
        {
          "output_type": "stream",
          "name": "stdout",
          "text": [
            "<class 'bool'>\n"
          ]
        }
      ]
    },
    {
      "cell_type": "code",
      "source": [
        "# Assign `max_logins` to the value 3\n",
        "max_logins = 3\n",
        "\n",
        "# Assign `login_attempts` to a specific value\n",
        "login_attempts = 3\n",
        "\n",
        "# Determine whether the current number of login attempts a user has made is less than or equal to the maximum number of login attempts allowed,\n",
        "# and display the resulting Boolean value\n",
        "print(login_attempts <= max_logins)"
      ],
      "metadata": {
        "colab": {
          "base_uri": "https://localhost:8080/"
        },
        "id": "BgEsYTaRNYUu",
        "outputId": "9c5c2ce1-9d97-4aa3-cf4e-10e9dee5b099"
      },
      "execution_count": null,
      "outputs": [
        {
          "output_type": "stream",
          "name": "stdout",
          "text": [
            "True\n"
          ]
        }
      ]
    },
    {
      "cell_type": "code",
      "source": [
        "# Assign `max_logins` to the value 3\n",
        "max_logins = 3\n",
        "\n",
        "# Assign `login_attempts` to the value 2\n",
        "login_attempts = 2\n",
        "\n",
        "# Determine whether the current number of login attempts a user has made is less than or equal to the maximum number of login attempts allowed,\n",
        "# and display the resulting Boolean value\n",
        "print(login_attempts <= max_logins)"
      ],
      "metadata": {
        "colab": {
          "base_uri": "https://localhost:8080/"
        },
        "id": "GEprvyIBJuoV",
        "outputId": "e31d6fce-6e9e-40d5-e3c7-9bf0d5bf1223"
      },
      "execution_count": null,
      "outputs": [
        {
          "output_type": "stream",
          "name": "stdout",
          "text": [
            "False\n"
          ]
        }
      ]
    },
    {
      "cell_type": "code",
      "source": [
        "# Assign `login_attempts` to the value 2\n",
        "login_attempts = 2\n",
        "\n",
        "# Assign `login_attempts_type` to the data type of `login_attempts`\n",
        "login_attempts_type = type(login_attempts)\n",
        "\n",
        "# Display `login_attempts_type`\n",
        "print(login_attempts_type)\n"
      ],
      "metadata": {
        "colab": {
          "base_uri": "https://localhost:8080/"
        },
        "id": "rvpH7QFqJR12",
        "outputId": "913f0e62-f306-4c87-e450-4a1e6f402df9"
      },
      "execution_count": null,
      "outputs": [
        {
          "output_type": "stream",
          "name": "stdout",
          "text": [
            "<class 'int'>\n"
          ]
        }
      ]
    },
    {
      "cell_type": "code",
      "source": [
        "# Assign `max_logins` to the value 3\n",
        "max_logins = 3\n",
        "\n",
        "# Assign `max_logins_type` to the data type of `max_logins`\n",
        "max_logins_type = type(max_logins)\n",
        "\n",
        "# Display `max_logins_type`\n",
        "print(max_logins_type)"
      ],
      "metadata": {
        "colab": {
          "base_uri": "https://localhost:8080/"
        },
        "id": "mh2lKqF9JKiY",
        "outputId": "1088151a-3d15-4e61-e884-260f9d602363"
      },
      "execution_count": null,
      "outputs": [
        {
          "output_type": "stream",
          "name": "stdout",
          "text": [
            "<class 'int'>\n"
          ]
        }
      ]
    },
    {
      "cell_type": "code",
      "source": [
        "# Assign `username_list` to the list of usernames who are allowed to access the device\n",
        "username_list = [\"madebowa\", \"jnguyen\", \"tbecker\", \"nhersh\", \"redwards\"]\n",
        "\n",
        "# Display `username_list`\n",
        "print(username_list)\n",
        "\n",
        "# Assign `username_list` to the updated list of usernames who are allowed to access the device\n",
        "username_list = [\"madebowa\", \"jnguyen\", \"tbecker\", \"nhersh\", \"redwards\", \"lpope\"]\n",
        "\n",
        "# Display `username_list`\n",
        "print(username_list)"
      ],
      "metadata": {
        "colab": {
          "base_uri": "https://localhost:8080/"
        },
        "id": "-1DIPPhsIgJK",
        "outputId": "db95b6a6-6a6c-4c92-b9e9-a4b2687951c4"
      },
      "execution_count": null,
      "outputs": [
        {
          "output_type": "stream",
          "name": "stdout",
          "text": [
            "['madebowa', 'jnguyen', 'tbecker', 'nhersh', 'redwards']\n",
            "['madebowa', 'jnguyen', 'tbecker', 'nhersh', 'redwards', 'lpope']\n"
          ]
        }
      ]
    },
    {
      "cell_type": "code",
      "source": [
        "# Assign `username_list` to the list of usernames who are allowed to access the device\n",
        "username_list = [\"madebowa\", \"jnguyen\", \"tbecker\", \"nhersh\", \"redwards\"]\n",
        "\n",
        "# Assign `username_list_type` to the data type of `username_list`\n",
        "username_list_type = type(username_list)\n",
        "\n",
        "# Display `username_list_type`\n",
        "print(username_list_type)"
      ],
      "metadata": {
        "colab": {
          "base_uri": "https://localhost:8080/"
        },
        "id": "ngLBIhq7H-nC",
        "outputId": "020cd8c8-1552-42b4-f864-2d0f835a86a4"
      },
      "execution_count": null,
      "outputs": [
        {
          "output_type": "stream",
          "name": "stdout",
          "text": [
            "<class 'list'>\n"
          ]
        }
      ]
    },
    {
      "cell_type": "code",
      "source": [
        "# Assign `username_list` to the list of usernames who are allowed to access the device\n",
        "username_list = [\"madebowa\", \"jnguyen\", \"tbecker\", \"nhersh\", \"redwards\"]\n",
        "\n",
        "# Display `username_list`\n",
        "print(username_list)"
      ],
      "metadata": {
        "colab": {
          "base_uri": "https://localhost:8080/"
        },
        "id": "MHDSrUXAHqJQ",
        "outputId": "be2903bb-0a47-4173-b989-c6f4b850c1dc"
      },
      "execution_count": null,
      "outputs": [
        {
          "output_type": "stream",
          "name": "stdout",
          "text": [
            "['madebowa', 'jnguyen', 'tbecker', 'nhersh', 'redwards']\n"
          ]
        }
      ]
    },
    {
      "cell_type": "code",
      "source": [
        "# Assign the `device_id` variable to the device ID that only specified users can access\n",
        "device_id = \"72e08x0\"\n",
        "\n",
        "# Assign `device_id_type` to the data type of `device_id`\n",
        "device_id_type = type(device_id)\n",
        "\n",
        "# Display `device_id_type`\n",
        "print(device_id_type)"
      ],
      "metadata": {
        "colab": {
          "base_uri": "https://localhost:8080/"
        },
        "id": "pS2xrOujHMd4",
        "outputId": "06bb1317-65f6-40ab-ea4f-ca3f15e7e07d"
      },
      "execution_count": null,
      "outputs": [
        {
          "output_type": "stream",
          "name": "stdout",
          "text": [
            "<class 'str'>\n"
          ]
        }
      ]
    },
    {
      "cell_type": "code",
      "source": [
        "# Storing a previous variable\n",
        "\n",
        "username = \"nzhao\"\n",
        "old_username = username\n",
        "username = \"zhao2\"\n",
        "print(\"Previous username:\", old_username)\n",
        "print(\"Current username:\", username)"
      ],
      "metadata": {
        "colab": {
          "base_uri": "https://localhost:8080/"
        },
        "id": "sgFveTrKEjmf",
        "outputId": "1d6a5da0-6b77-481e-d45c-16e839e5f506"
      },
      "execution_count": null,
      "outputs": [
        {
          "output_type": "stream",
          "name": "stdout",
          "text": [
            "Previous username: nzhao\n",
            "Current username: zhao2\n"
          ]
        }
      ]
    },
    {
      "cell_type": "code",
      "source": [
        "# Assign the `device_id` variable to the device ID that only specified users can access\n",
        "device_id = \"72e08x0\"\n",
        "\n",
        "# Display `device_id`\n",
        "print(device_id)"
      ],
      "metadata": {
        "colab": {
          "base_uri": "https://localhost:8080/"
        },
        "id": "ZsCFRj85FH1N",
        "outputId": "3bbe58ee-a365-471c-9fe6-78e2264afa1d"
      },
      "execution_count": null,
      "outputs": [
        {
          "output_type": "stream",
          "name": "stdout",
          "text": [
            "72e08x0\n"
          ]
        }
      ]
    },
    {
      "cell_type": "code",
      "source": [
        "# Reassing a variable\n",
        "\n",
        "device_id = \"h32rb17\"\n",
        "print(device_id)\n",
        "device_id = \"n73ab07\"\n",
        "print(device_id)"
      ],
      "metadata": {
        "colab": {
          "base_uri": "https://localhost:8080/"
        },
        "id": "cS6rdLDWDs-J",
        "outputId": "a4abf26c-f09d-4c8a-a0ac-bea065915ca9"
      },
      "execution_count": null,
      "outputs": [
        {
          "output_type": "stream",
          "name": "stdout",
          "text": [
            "h32rb17\n",
            "n73ab07\n"
          ]
        }
      ]
    },
    {
      "cell_type": "code",
      "source": [
        "# This cell displays all the statements written so far\n",
        "\n",
        "print(\"Hello World in Python\")\n",
        "print(\"I am using Python. Yay.\")\n",
        "print(\"I am a security analyst. Wow.\")\n",
        "print(\"Python is useful for security. Such language.\")"
      ],
      "metadata": {
        "colab": {
          "base_uri": "https://localhost:8080/"
        },
        "id": "_QSkptu3DDgr",
        "outputId": "54c7202a-6b1e-4784-9b24-b6fd061b7e59"
      },
      "execution_count": null,
      "outputs": [
        {
          "output_type": "stream",
          "name": "stdout",
          "text": [
            "Hello World in Python\n",
            "I am using Python. Yay.\n",
            "I am a security analyst. Wow.\n",
            "Python is useful for security. Such language.\n"
          ]
        }
      ]
    },
    {
      "cell_type": "code",
      "source": [
        "# This cell displays \"Python is useful for security\"\n",
        "print(\"Python is useful for security. Such language.\")"
      ],
      "metadata": {
        "colab": {
          "base_uri": "https://localhost:8080/"
        },
        "id": "NL7n94GlCwyM",
        "outputId": "e164d1fa-999e-41b4-a60a-9ff81eafaf0d"
      },
      "execution_count": null,
      "outputs": [
        {
          "output_type": "stream",
          "name": "stdout",
          "text": [
            "Python is useful for security. Such language.\n"
          ]
        }
      ]
    },
    {
      "cell_type": "code",
      "source": [
        "# This code displays \"I am a security analyst.\"\n",
        "print(\"I am a security analyst. Wow.\")"
      ],
      "metadata": {
        "colab": {
          "base_uri": "https://localhost:8080/"
        },
        "id": "4Ol2B8kfCSAZ",
        "outputId": "fcb8b7d5-e3ac-49d4-d05b-7830bfe25fd6"
      },
      "execution_count": null,
      "outputs": [
        {
          "output_type": "stream",
          "name": "stdout",
          "text": [
            "I am a security analyst. Wow.\n"
          ]
        }
      ]
    },
    {
      "cell_type": "code",
      "source": [
        "# This code is a print statement\n",
        "print(\"I am using Python. Yay.\")"
      ],
      "metadata": {
        "colab": {
          "base_uri": "https://localhost:8080/"
        },
        "id": "TyQHg75IB9js",
        "outputId": "b1368a0e-698c-443e-d35a-dd8a21332a10"
      },
      "execution_count": null,
      "outputs": [
        {
          "output_type": "stream",
          "name": "stdout",
          "text": [
            "I am using Python. Yay.\n"
          ]
        }
      ]
    },
    {
      "cell_type": "code",
      "source": [
        "# In Python, comments do not get displayed\n",
        "# This code cell contains only comments"
      ],
      "metadata": {
        "id": "o0iqWRbFB6DF"
      },
      "execution_count": null,
      "outputs": []
    },
    {
      "cell_type": "code",
      "execution_count": null,
      "metadata": {
        "colab": {
          "base_uri": "https://localhost:8080/"
        },
        "id": "tCpJh73PASrG",
        "outputId": "4d45778e-5744-4257-c349-1b12b61fbde0"
      },
      "outputs": [
        {
          "output_type": "stream",
          "name": "stdout",
          "text": [
            "Hello World in Python!\n"
          ]
        }
      ],
      "source": [
        "# This cell displays \"Hello World in Python!\"\n",
        "print(\"Hello World in Python!\")\n"
      ]
    }
  ]
}