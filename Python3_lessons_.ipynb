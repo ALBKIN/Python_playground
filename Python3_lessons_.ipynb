{
  "nbformat": 4,
  "nbformat_minor": 0,
  "metadata": {
    "colab": {
      "provenance": [],
      "toc_visible": true,
      "authorship_tag": "ABX9TyNqmJ3ljGMaqzoPZYEokue0",
      "include_colab_link": true
    },
    "kernelspec": {
      "name": "python3",
      "display_name": "Python 3"
    },
    "language_info": {
      "name": "python"
    }
  },
  "cells": [
    {
      "cell_type": "markdown",
      "metadata": {
        "id": "view-in-github",
        "colab_type": "text"
      },
      "source": [
        "<a href=\"https://colab.research.google.com/github/ALBKIN/Python_playground/blob/main/Python3_lessons_.ipynb\" target=\"_parent\"><img src=\"https://colab.research.google.com/assets/colab-badge.svg\" alt=\"Open In Colab\"/></a>"
      ]
    },
    {
      "cell_type": "code",
      "source": [],
      "metadata": {
        "id": "yTrW0ghqV1aH"
      },
      "execution_count": null,
      "outputs": []
    },
    {
      "cell_type": "code",
      "source": [
        "# Assign `approved_user1` and `approved_user2` to usernames of approved users\n",
        "approved_user1 = \"elarson\"\n",
        "approved_user2 = \"bmoreno\"\n",
        "\n",
        "# Assign `username` to the username of a specific user trying to log in\n",
        "username = \"bmoreno\"\n",
        "\n",
        "# If the user trying to log in is among the approved users, then display a message that they are approved to access this device\n",
        "# Otherwise, display a message that they do not have access to this device\n",
        "if (username == approved_user1 or username == approved_user2):\n",
        "    print(\"This user has access to this device.\")\n",
        "else:\n",
        "    print(\"This user does not have access to this device.\")"
      ],
      "metadata": {
        "colab": {
          "base_uri": "https://localhost:8080/"
        },
        "id": "NjyJ9olSVty5",
        "outputId": "51ccc0ab-e26e-4823-868e-09127be723aa"
      },
      "execution_count": 21,
      "outputs": [
        {
          "output_type": "stream",
          "name": "stdout",
          "text": [
            "This user has access to this device.\n"
          ]
        }
      ]
    },
    {
      "cell_type": "code",
      "source": [
        "# Assign `system` to a specific operating system\n",
        "# This variable represents which operating system is running\n",
        "system = \"OS 1\"\n",
        "\n",
        "# If OS 2 is running, then display a \"no update needed\" message\n",
        "# Otherwise if either OS 1 or OS 3 is running, display a \"update needed\" message\n",
        "if system == \"OS 2\":\n",
        "    print(\"no update needed\")\n",
        "elif (system == \"OS 1\" or system == \"OS 3\"):\n",
        "    print(\"update needed\")\n",
        ""
      ],
      "metadata": {
        "colab": {
          "base_uri": "https://localhost:8080/"
        },
        "id": "QHyjZBajVJEH",
        "outputId": "f5dd05f0-9f83-487b-c5c5-37e739aa1deb"
      },
      "execution_count": 20,
      "outputs": [
        {
          "output_type": "stream",
          "name": "stdout",
          "text": [
            "update needed\n"
          ]
        }
      ]
    },
    {
      "cell_type": "code",
      "source": [
        "# Assign `system` to a specific operating system\n",
        "# This variable represents which operating system is running\n",
        "system = \"OS 3\"\n",
        "\n",
        "# If OS 2 is running, then display a \"no update needed\" message\n",
        "# Otherwise if OS 1 is running, display a \"update needed\" message\n",
        "# Otherwise if OS 3 is running, display a \"update needed\" message\n",
        "if system == \"OS 2\":\n",
        "    print(\"no update needed\")\n",
        "elif system == \"OS 1\":\n",
        "    print(\"update needed\")\n",
        "elif (system == \"OS 3\"):\n",
        "    print(\"update needed\")\n",
        ""
      ],
      "metadata": {
        "colab": {
          "base_uri": "https://localhost:8080/"
        },
        "id": "BJpZUsh5U0FX",
        "outputId": "87e2592b-7d55-40fb-adef-9dbe13fb88fa"
      },
      "execution_count": 19,
      "outputs": [
        {
          "output_type": "stream",
          "name": "stdout",
          "text": [
            "update needed\n"
          ]
        }
      ]
    },
    {
      "cell_type": "code",
      "source": [
        "# Assign `system` to a specific operating system\n",
        "# This variable represents which operating system is running\n",
        "system = \"OS 1\"\n",
        "\n",
        "# If OS 2 is running, then display a \"no update needed\" message\n",
        "# Otherwise, display a \"update needed\" message\n",
        "if system == \"OS 2\":\n",
        "    print(\"no update needed\")\n",
        "else:\n",
        "    print(\"update needed\")"
      ],
      "metadata": {
        "colab": {
          "base_uri": "https://localhost:8080/"
        },
        "id": "YAUvx4aQT3Is",
        "outputId": "92098bd4-8af7-48a6-e6b9-41cd9d26187b"
      },
      "execution_count": 18,
      "outputs": [
        {
          "output_type": "stream",
          "name": "stdout",
          "text": [
            "update needed\n"
          ]
        }
      ]
    },
    {
      "cell_type": "code",
      "source": [
        "# Assign a variable named `system` to a specific operating system, represented as a string\n",
        "# This variable indicates which operating system is running\n",
        "# Feel free to run this cell multiple times; each time try assigning `system` to different values (\"OS 1\", \"OS 2\", \"OS 3\") and observe the result\n",
        "system = \"OS 2\"\n",
        "\n",
        "# If OS 2 is running, then display a \"no update needed\" message\n",
        "if (system == \"OS 2\"):\n",
        "    print(\"no update needed\")\n",
        ""
      ],
      "metadata": {
        "colab": {
          "base_uri": "https://localhost:8080/"
        },
        "id": "7I0OHWZMQ3DZ",
        "outputId": "10af3280-093b-4b0c-9abc-87976cba887e"
      },
      "execution_count": 17,
      "outputs": [
        {
          "output_type": "stream",
          "name": "stdout",
          "text": [
            "no update needed\n"
          ]
        }
      ]
    },
    {
      "cell_type": "code",
      "source": [
        "# Assign `login_status` to the Boolean value False\n",
        "login_status = False\n",
        "\n",
        "# Assign `login_status_type` to the data type of `login_status`\n",
        "login_status_type = type(login_status)\n",
        "\n",
        "# Display `login_status_type`\n",
        "print(login_status_type)"
      ],
      "metadata": {
        "colab": {
          "base_uri": "https://localhost:8080/"
        },
        "id": "1l_adooVOJFJ",
        "outputId": "1294d192-0059-4156-dab2-61b1e5875c8f"
      },
      "execution_count": 16,
      "outputs": [
        {
          "output_type": "stream",
          "name": "stdout",
          "text": [
            "<class 'bool'>\n"
          ]
        }
      ]
    },
    {
      "cell_type": "code",
      "source": [
        "# Assign `max_logins` to the value 3\n",
        "max_logins = 3\n",
        "\n",
        "# Assign `login_attempts` to a specific value\n",
        "login_attempts = 3\n",
        "\n",
        "# Determine whether the current number of login attempts a user has made is less than or equal to the maximum number of login attempts allowed,\n",
        "# and display the resulting Boolean value\n",
        "print(login_attempts <= max_logins)"
      ],
      "metadata": {
        "colab": {
          "base_uri": "https://localhost:8080/"
        },
        "id": "BgEsYTaRNYUu",
        "outputId": "9c5c2ce1-9d97-4aa3-cf4e-10e9dee5b099"
      },
      "execution_count": 15,
      "outputs": [
        {
          "output_type": "stream",
          "name": "stdout",
          "text": [
            "True\n"
          ]
        }
      ]
    },
    {
      "cell_type": "code",
      "source": [
        "# Assign `max_logins` to the value 3\n",
        "max_logins = 3\n",
        "\n",
        "# Assign `login_attempts` to the value 2\n",
        "login_attempts = 2\n",
        "\n",
        "# Determine whether the current number of login attempts a user has made is less than or equal to the maximum number of login attempts allowed,\n",
        "# and display the resulting Boolean value\n",
        "print(login_attempts <= max_logins)"
      ],
      "metadata": {
        "colab": {
          "base_uri": "https://localhost:8080/"
        },
        "id": "GEprvyIBJuoV",
        "outputId": "e31d6fce-6e9e-40d5-e3c7-9bf0d5bf1223"
      },
      "execution_count": 14,
      "outputs": [
        {
          "output_type": "stream",
          "name": "stdout",
          "text": [
            "False\n"
          ]
        }
      ]
    },
    {
      "cell_type": "code",
      "source": [
        "# Assign `login_attempts` to the value 2\n",
        "login_attempts = 2\n",
        "\n",
        "# Assign `login_attempts_type` to the data type of `login_attempts`\n",
        "login_attempts_type = type(login_attempts)\n",
        "\n",
        "# Display `login_attempts_type`\n",
        "print(login_attempts_type)\n"
      ],
      "metadata": {
        "colab": {
          "base_uri": "https://localhost:8080/"
        },
        "id": "rvpH7QFqJR12",
        "outputId": "913f0e62-f306-4c87-e450-4a1e6f402df9"
      },
      "execution_count": 13,
      "outputs": [
        {
          "output_type": "stream",
          "name": "stdout",
          "text": [
            "<class 'int'>\n"
          ]
        }
      ]
    },
    {
      "cell_type": "code",
      "source": [
        "# Assign `max_logins` to the value 3\n",
        "max_logins = 3\n",
        "\n",
        "# Assign `max_logins_type` to the data type of `max_logins`\n",
        "max_logins_type = type(max_logins)\n",
        "\n",
        "# Display `max_logins_type`\n",
        "print(max_logins_type)"
      ],
      "metadata": {
        "colab": {
          "base_uri": "https://localhost:8080/"
        },
        "id": "mh2lKqF9JKiY",
        "outputId": "1088151a-3d15-4e61-e884-260f9d602363"
      },
      "execution_count": 11,
      "outputs": [
        {
          "output_type": "stream",
          "name": "stdout",
          "text": [
            "<class 'int'>\n"
          ]
        }
      ]
    },
    {
      "cell_type": "code",
      "source": [
        "# Assign `username_list` to the list of usernames who are allowed to access the device\n",
        "username_list = [\"madebowa\", \"jnguyen\", \"tbecker\", \"nhersh\", \"redwards\"]\n",
        "\n",
        "# Display `username_list`\n",
        "print(username_list)\n",
        "\n",
        "# Assign `username_list` to the updated list of usernames who are allowed to access the device\n",
        "username_list = [\"madebowa\", \"jnguyen\", \"tbecker\", \"nhersh\", \"redwards\", \"lpope\"]\n",
        "\n",
        "# Display `username_list`\n",
        "print(username_list)"
      ],
      "metadata": {
        "colab": {
          "base_uri": "https://localhost:8080/"
        },
        "id": "-1DIPPhsIgJK",
        "outputId": "db95b6a6-6a6c-4c92-b9e9-a4b2687951c4"
      },
      "execution_count": 10,
      "outputs": [
        {
          "output_type": "stream",
          "name": "stdout",
          "text": [
            "['madebowa', 'jnguyen', 'tbecker', 'nhersh', 'redwards']\n",
            "['madebowa', 'jnguyen', 'tbecker', 'nhersh', 'redwards', 'lpope']\n"
          ]
        }
      ]
    },
    {
      "cell_type": "code",
      "source": [
        "# Assign `username_list` to the list of usernames who are allowed to access the device\n",
        "username_list = [\"madebowa\", \"jnguyen\", \"tbecker\", \"nhersh\", \"redwards\"]\n",
        "\n",
        "# Assign `username_list_type` to the data type of `username_list`\n",
        "username_list_type = type(username_list)\n",
        "\n",
        "# Display `username_list_type`\n",
        "print(username_list_type)"
      ],
      "metadata": {
        "colab": {
          "base_uri": "https://localhost:8080/"
        },
        "id": "ngLBIhq7H-nC",
        "outputId": "020cd8c8-1552-42b4-f864-2d0f835a86a4"
      },
      "execution_count": 9,
      "outputs": [
        {
          "output_type": "stream",
          "name": "stdout",
          "text": [
            "<class 'list'>\n"
          ]
        }
      ]
    },
    {
      "cell_type": "code",
      "source": [
        "# Assign `username_list` to the list of usernames who are allowed to access the device\n",
        "username_list = [\"madebowa\", \"jnguyen\", \"tbecker\", \"nhersh\", \"redwards\"]\n",
        "\n",
        "# Display `username_list`\n",
        "print(username_list)"
      ],
      "metadata": {
        "colab": {
          "base_uri": "https://localhost:8080/"
        },
        "id": "MHDSrUXAHqJQ",
        "outputId": "be2903bb-0a47-4173-b989-c6f4b850c1dc"
      },
      "execution_count": 8,
      "outputs": [
        {
          "output_type": "stream",
          "name": "stdout",
          "text": [
            "['madebowa', 'jnguyen', 'tbecker', 'nhersh', 'redwards']\n"
          ]
        }
      ]
    },
    {
      "cell_type": "code",
      "source": [
        "# Assign the `device_id` variable to the device ID that only specified users can access\n",
        "device_id = \"72e08x0\"\n",
        "\n",
        "# Assign `device_id_type` to the data type of `device_id`\n",
        "device_id_type = type(device_id)\n",
        "\n",
        "# Display `device_id_type`\n",
        "print(device_id_type)"
      ],
      "metadata": {
        "colab": {
          "base_uri": "https://localhost:8080/"
        },
        "id": "pS2xrOujHMd4",
        "outputId": "06bb1317-65f6-40ab-ea4f-ca3f15e7e07d"
      },
      "execution_count": 7,
      "outputs": [
        {
          "output_type": "stream",
          "name": "stdout",
          "text": [
            "<class 'str'>\n"
          ]
        }
      ]
    },
    {
      "cell_type": "code",
      "source": [
        "# Storing a previous variable\n",
        "\n",
        "username = \"nzhao\"\n",
        "old_username = username\n",
        "username = \"zhao2\"\n",
        "print(\"Previous username:\", old_username)\n",
        "print(\"Current username:\", username)"
      ],
      "metadata": {
        "colab": {
          "base_uri": "https://localhost:8080/"
        },
        "id": "sgFveTrKEjmf",
        "outputId": "1d6a5da0-6b77-481e-d45c-16e839e5f506"
      },
      "execution_count": 4,
      "outputs": [
        {
          "output_type": "stream",
          "name": "stdout",
          "text": [
            "Previous username: nzhao\n",
            "Current username: zhao2\n"
          ]
        }
      ]
    },
    {
      "cell_type": "code",
      "source": [
        "# Assign the `device_id` variable to the device ID that only specified users can access\n",
        "device_id = \"72e08x0\"\n",
        "\n",
        "# Display `device_id`\n",
        "print(device_id)"
      ],
      "metadata": {
        "colab": {
          "base_uri": "https://localhost:8080/"
        },
        "id": "ZsCFRj85FH1N",
        "outputId": "3bbe58ee-a365-471c-9fe6-78e2264afa1d"
      },
      "execution_count": 6,
      "outputs": [
        {
          "output_type": "stream",
          "name": "stdout",
          "text": [
            "72e08x0\n"
          ]
        }
      ]
    },
    {
      "cell_type": "code",
      "source": [
        "# Reassing a variable\n",
        "\n",
        "device_id = \"h32rb17\"\n",
        "print(device_id)\n",
        "device_id = \"n73ab07\"\n",
        "print(device_id)"
      ],
      "metadata": {
        "colab": {
          "base_uri": "https://localhost:8080/"
        },
        "id": "cS6rdLDWDs-J",
        "outputId": "a4abf26c-f09d-4c8a-a0ac-bea065915ca9"
      },
      "execution_count": 3,
      "outputs": [
        {
          "output_type": "stream",
          "name": "stdout",
          "text": [
            "h32rb17\n",
            "n73ab07\n"
          ]
        }
      ]
    },
    {
      "cell_type": "code",
      "source": [
        "# This cell displays all the statements written so far\n",
        "\n",
        "print(\"Hello World in Python\")\n",
        "print(\"I am using Python. Yay.\")\n",
        "print(\"I am a security analyst. Wow.\")\n",
        "print(\"Python is useful for security. Such language.\")"
      ],
      "metadata": {
        "colab": {
          "base_uri": "https://localhost:8080/"
        },
        "id": "_QSkptu3DDgr",
        "outputId": "54c7202a-6b1e-4784-9b24-b6fd061b7e59"
      },
      "execution_count": 8,
      "outputs": [
        {
          "output_type": "stream",
          "name": "stdout",
          "text": [
            "Hello World in Python\n",
            "I am using Python. Yay.\n",
            "I am a security analyst. Wow.\n",
            "Python is useful for security. Such language.\n"
          ]
        }
      ]
    },
    {
      "cell_type": "code",
      "source": [
        "# This cell displays \"Python is useful for security\"\n",
        "print(\"Python is useful for security. Such language.\")"
      ],
      "metadata": {
        "colab": {
          "base_uri": "https://localhost:8080/"
        },
        "id": "NL7n94GlCwyM",
        "outputId": "e164d1fa-999e-41b4-a60a-9ff81eafaf0d"
      },
      "execution_count": 11,
      "outputs": [
        {
          "output_type": "stream",
          "name": "stdout",
          "text": [
            "Python is useful for security. Such language.\n"
          ]
        }
      ]
    },
    {
      "cell_type": "code",
      "source": [
        "# This code displays \"I am a security analyst.\"\n",
        "print(\"I am a security analyst. Wow.\")"
      ],
      "metadata": {
        "colab": {
          "base_uri": "https://localhost:8080/"
        },
        "id": "4Ol2B8kfCSAZ",
        "outputId": "fcb8b7d5-e3ac-49d4-d05b-7830bfe25fd6"
      },
      "execution_count": 9,
      "outputs": [
        {
          "output_type": "stream",
          "name": "stdout",
          "text": [
            "I am a security analyst. Wow.\n"
          ]
        }
      ]
    },
    {
      "cell_type": "code",
      "source": [
        "# This code is a print statement\n",
        "print(\"I am using Python. Yay.\")"
      ],
      "metadata": {
        "colab": {
          "base_uri": "https://localhost:8080/"
        },
        "id": "TyQHg75IB9js",
        "outputId": "b1368a0e-698c-443e-d35a-dd8a21332a10"
      },
      "execution_count": 10,
      "outputs": [
        {
          "output_type": "stream",
          "name": "stdout",
          "text": [
            "I am using Python. Yay.\n"
          ]
        }
      ]
    },
    {
      "cell_type": "code",
      "source": [
        "# In Python, comments do not get displayed\n",
        "# This code cell contains only comments"
      ],
      "metadata": {
        "id": "o0iqWRbFB6DF"
      },
      "execution_count": 3,
      "outputs": []
    },
    {
      "cell_type": "code",
      "execution_count": 2,
      "metadata": {
        "colab": {
          "base_uri": "https://localhost:8080/"
        },
        "id": "tCpJh73PASrG",
        "outputId": "4d45778e-5744-4257-c349-1b12b61fbde0"
      },
      "outputs": [
        {
          "output_type": "stream",
          "name": "stdout",
          "text": [
            "Hello World in Python!\n"
          ]
        }
      ],
      "source": [
        "# This cell displays \"Hello World in Python!\"\n",
        "print(\"Hello World in Python!\")\n"
      ]
    }
  ]
}